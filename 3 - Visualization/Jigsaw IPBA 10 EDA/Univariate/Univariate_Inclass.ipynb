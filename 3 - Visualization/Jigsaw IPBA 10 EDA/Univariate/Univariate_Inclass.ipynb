{
 "cells": [
  {
   "cell_type": "code",
   "execution_count": 1,
   "metadata": {
    "tags": []
   },
   "outputs": [],
   "source": [
    "#import os\n",
    "#os.chdir('G:\\Data Visualization for ML')"
   ]
  },
  {
   "cell_type": "code",
   "execution_count": 2,
   "metadata": {
    "tags": []
   },
   "outputs": [],
   "source": [
    "import os \n",
    "import pandas as pd\n",
    "from pandas import DataFrame\n",
    "import numpy as np\n",
    "import seaborn as sns\n",
    "import matplotlib.pyplot as plt\n",
    "%matplotlib inline   "
   ]
  },
  {
   "cell_type": "markdown",
   "metadata": {},
   "source": [
    "#plt.show() "
   ]
  },
  {
   "cell_type": "markdown",
   "metadata": {},
   "source": [
    "# Reading the Necessary files"
   ]
  },
  {
   "cell_type": "code",
   "execution_count": 3,
   "metadata": {},
   "outputs": [],
   "source": [
    "data=pd.read_csv(\"hrdata.csv\")\n",
    "data2=pd.read_csv(\"MMix.csv\")\n",
    "data3=pd.read_csv(\"iris.csv\")"
   ]
  },
  {
   "cell_type": "code",
   "execution_count": 4,
   "metadata": {},
   "outputs": [
    {
     "data": {
      "text/html": [
       "<div>\n",
       "<style scoped>\n",
       "    .dataframe tbody tr th:only-of-type {\n",
       "        vertical-align: middle;\n",
       "    }\n",
       "\n",
       "    .dataframe tbody tr th {\n",
       "        vertical-align: top;\n",
       "    }\n",
       "\n",
       "    .dataframe thead th {\n",
       "        text-align: right;\n",
       "    }\n",
       "</style>\n",
       "<table border=\"1\" class=\"dataframe\">\n",
       "  <thead>\n",
       "    <tr style=\"text-align: right;\">\n",
       "      <th></th>\n",
       "      <th>EmployeeCount</th>\n",
       "      <th>EmployeeID</th>\n",
       "      <th>Department</th>\n",
       "      <th>JobRole</th>\n",
       "      <th>Attrition</th>\n",
       "      <th>Gender</th>\n",
       "      <th>Age</th>\n",
       "      <th>MaritalStatus</th>\n",
       "      <th>Education</th>\n",
       "      <th>EducationField</th>\n",
       "      <th>...</th>\n",
       "      <th>Hourlyrate</th>\n",
       "      <th>Income</th>\n",
       "      <th>Salaryhike</th>\n",
       "      <th>OverTime</th>\n",
       "      <th>Workex</th>\n",
       "      <th>YearsSinceLastPromotion</th>\n",
       "      <th>EmpSatisfaction</th>\n",
       "      <th>TrainingTimesLastYear</th>\n",
       "      <th>WorkLifeBalance</th>\n",
       "      <th>Performance_Rating</th>\n",
       "    </tr>\n",
       "  </thead>\n",
       "  <tbody>\n",
       "    <tr>\n",
       "      <th>0</th>\n",
       "      <td>1</td>\n",
       "      <td>1</td>\n",
       "      <td>Sales</td>\n",
       "      <td>Sales Executive</td>\n",
       "      <td>Yes</td>\n",
       "      <td>Female</td>\n",
       "      <td>41</td>\n",
       "      <td>Single</td>\n",
       "      <td>College</td>\n",
       "      <td>Life Sciences</td>\n",
       "      <td>...</td>\n",
       "      <td>94</td>\n",
       "      <td>5993</td>\n",
       "      <td>11</td>\n",
       "      <td>Yes</td>\n",
       "      <td>8</td>\n",
       "      <td>0</td>\n",
       "      <td>Medium</td>\n",
       "      <td>0</td>\n",
       "      <td>Bad</td>\n",
       "      <td>Excellent</td>\n",
       "    </tr>\n",
       "    <tr>\n",
       "      <th>1</th>\n",
       "      <td>1</td>\n",
       "      <td>2</td>\n",
       "      <td>Research &amp; Development</td>\n",
       "      <td>Research Scientist</td>\n",
       "      <td>No</td>\n",
       "      <td>Male</td>\n",
       "      <td>49</td>\n",
       "      <td>Married</td>\n",
       "      <td>Below College</td>\n",
       "      <td>Life Sciences</td>\n",
       "      <td>...</td>\n",
       "      <td>61</td>\n",
       "      <td>5130</td>\n",
       "      <td>23</td>\n",
       "      <td>No</td>\n",
       "      <td>10</td>\n",
       "      <td>1</td>\n",
       "      <td>High</td>\n",
       "      <td>3</td>\n",
       "      <td>Better</td>\n",
       "      <td>Outstanding</td>\n",
       "    </tr>\n",
       "    <tr>\n",
       "      <th>2</th>\n",
       "      <td>1</td>\n",
       "      <td>4</td>\n",
       "      <td>Research &amp; Development</td>\n",
       "      <td>Laboratory Technician</td>\n",
       "      <td>Yes</td>\n",
       "      <td>Male</td>\n",
       "      <td>37</td>\n",
       "      <td>Single</td>\n",
       "      <td>College</td>\n",
       "      <td>Other</td>\n",
       "      <td>...</td>\n",
       "      <td>92</td>\n",
       "      <td>2090</td>\n",
       "      <td>15</td>\n",
       "      <td>Yes</td>\n",
       "      <td>7</td>\n",
       "      <td>0</td>\n",
       "      <td>Very High</td>\n",
       "      <td>3</td>\n",
       "      <td>Better</td>\n",
       "      <td>Excellent</td>\n",
       "    </tr>\n",
       "    <tr>\n",
       "      <th>3</th>\n",
       "      <td>1</td>\n",
       "      <td>5</td>\n",
       "      <td>Research &amp; Development</td>\n",
       "      <td>Research Scientist</td>\n",
       "      <td>No</td>\n",
       "      <td>Female</td>\n",
       "      <td>33</td>\n",
       "      <td>Married</td>\n",
       "      <td>Master</td>\n",
       "      <td>Life Sciences</td>\n",
       "      <td>...</td>\n",
       "      <td>56</td>\n",
       "      <td>2909</td>\n",
       "      <td>11</td>\n",
       "      <td>Yes</td>\n",
       "      <td>8</td>\n",
       "      <td>3</td>\n",
       "      <td>Very High</td>\n",
       "      <td>3</td>\n",
       "      <td>Better</td>\n",
       "      <td>Excellent</td>\n",
       "    </tr>\n",
       "    <tr>\n",
       "      <th>4</th>\n",
       "      <td>1</td>\n",
       "      <td>7</td>\n",
       "      <td>Research &amp; Development</td>\n",
       "      <td>Laboratory Technician</td>\n",
       "      <td>No</td>\n",
       "      <td>Male</td>\n",
       "      <td>27</td>\n",
       "      <td>Married</td>\n",
       "      <td>Below College</td>\n",
       "      <td>Medical</td>\n",
       "      <td>...</td>\n",
       "      <td>40</td>\n",
       "      <td>3468</td>\n",
       "      <td>12</td>\n",
       "      <td>No</td>\n",
       "      <td>6</td>\n",
       "      <td>2</td>\n",
       "      <td>Low</td>\n",
       "      <td>3</td>\n",
       "      <td>Better</td>\n",
       "      <td>Excellent</td>\n",
       "    </tr>\n",
       "  </tbody>\n",
       "</table>\n",
       "<p>5 rows × 24 columns</p>\n",
       "</div>"
      ],
      "text/plain": [
       "   EmployeeCount  EmployeeID              Department                JobRole  \\\n",
       "0              1           1                   Sales        Sales Executive   \n",
       "1              1           2  Research & Development     Research Scientist   \n",
       "2              1           4  Research & Development  Laboratory Technician   \n",
       "3              1           5  Research & Development     Research Scientist   \n",
       "4              1           7  Research & Development  Laboratory Technician   \n",
       "\n",
       "  Attrition  Gender  Age MaritalStatus      Education EducationField  ...  \\\n",
       "0       Yes  Female   41        Single        College  Life Sciences  ...   \n",
       "1        No    Male   49       Married  Below College  Life Sciences  ...   \n",
       "2       Yes    Male   37        Single        College          Other  ...   \n",
       "3        No  Female   33       Married         Master  Life Sciences  ...   \n",
       "4        No    Male   27       Married  Below College        Medical  ...   \n",
       "\n",
       "  Hourlyrate Income  Salaryhike OverTime  Workex  YearsSinceLastPromotion  \\\n",
       "0         94   5993          11      Yes       8                        0   \n",
       "1         61   5130          23       No      10                        1   \n",
       "2         92   2090          15      Yes       7                        0   \n",
       "3         56   2909          11      Yes       8                        3   \n",
       "4         40   3468          12       No       6                        2   \n",
       "\n",
       "   EmpSatisfaction TrainingTimesLastYear  WorkLifeBalance  Performance_Rating  \n",
       "0           Medium                     0              Bad           Excellent  \n",
       "1             High                     3           Better         Outstanding  \n",
       "2        Very High                     3           Better           Excellent  \n",
       "3        Very High                     3           Better           Excellent  \n",
       "4              Low                     3           Better           Excellent  \n",
       "\n",
       "[5 rows x 24 columns]"
      ]
     },
     "execution_count": 4,
     "metadata": {},
     "output_type": "execute_result"
    }
   ],
   "source": [
    "data.head()\n",
    "#data2.head()\n",
    "#data3.head()"
   ]
  },
  {
   "cell_type": "code",
   "execution_count": 7,
   "metadata": {},
   "outputs": [
    {
     "data": {
      "text/plain": [
       "Index(['EmployeeCount', 'EmployeeID', 'Department', 'JobRole', 'Attrition',\n",
       "       'Gender', 'Age', 'MaritalStatus', 'Education', 'EducationField',\n",
       "       'BusinessTravel', 'JobInvolvement', 'JobLevel', 'JobSatisfaction',\n",
       "       'Hourlyrate', 'Income', 'Salaryhike', 'OverTime', 'Workex',\n",
       "       'YearsSinceLastPromotion', 'EmpSatisfaction', 'TrainingTimesLastYear',\n",
       "       'WorkLifeBalance', 'Performance_Rating'],\n",
       "      dtype='object')"
      ]
     },
     "execution_count": 7,
     "metadata": {},
     "output_type": "execute_result"
    }
   ],
   "source": [
    "data.columns"
   ]
  },
  {
   "cell_type": "code",
   "execution_count": 6,
   "metadata": {
    "tags": []
   },
   "outputs": [],
   "source": [
    "data.columns = data.columns.str.strip()"
   ]
  },
  {
   "cell_type": "markdown",
   "metadata": {},
   "source": [
    "# Univariate Plots"
   ]
  },
  {
   "cell_type": "markdown",
   "metadata": {},
   "source": [
    "# Histogram"
   ]
  },
  {
   "cell_type": "code",
   "execution_count": 11,
   "metadata": {},
   "outputs": [
    {
     "data": {
      "text/plain": [
       "(array([ 37., 358., 149., 208., 162., 122.,  53.,  48.,  52.,  66.,  20.,\n",
       "         10.,  43.,   9.,   7.,  29.,  28.,  19.,  50.]),\n",
       " array([ 1009.        ,  2008.47368421,  3007.94736842,  4007.42105263,\n",
       "         5006.89473684,  6006.36842105,  7005.84210526,  8005.31578947,\n",
       "         9004.78947368, 10004.26315789, 11003.73684211, 12003.21052632,\n",
       "        13002.68421053, 14002.15789474, 15001.63157895, 16001.10526316,\n",
       "        17000.57894737, 18000.05263158, 18999.52631579, 19999.        ]),\n",
       " <BarContainer object of 19 artists>)"
      ]
     },
     "execution_count": 11,
     "metadata": {},
     "output_type": "execute_result"
    },
    {
     "data": {
      "image/png": "[encoded data removed]",
      "text/plain": [
       "<Figure size 432x288 with 1 Axes>"
      ]
     },
     "metadata": {
      "needs_background": "light"
     },
     "output_type": "display_data"
    }
   ],
   "source": [
    "plt.hist(data.Income, bins = 19, color = 'blue', linewidth = 3)\n",
    "#orientation = 'horizontal'\n"
   ]
  },
  {
   "cell_type": "code",
   "execution_count": 13,
   "metadata": {},
   "outputs": [
    {
     "name": "stdout",
     "output_type": "stream",
     "text": [
      "['bmh', 'classic', 'dark_background', 'fast', 'fivethirtyeight', 'ggplot', 'grayscale', 'seaborn-bright', 'seaborn-colorblind', 'seaborn-dark-palette', 'seaborn-dark', 'seaborn-darkgrid', 'seaborn-deep', 'seaborn-muted', 'seaborn-notebook', 'seaborn-paper', 'seaborn-pastel', 'seaborn-poster', 'seaborn-talk', 'seaborn-ticks', 'seaborn-white', 'seaborn-whitegrid', 'seaborn', 'Solarize_Light2', '_classic_test']\n"
     ]
    }
   ],
   "source": [
    "print(plt.style.available)"
   ]
  },
  {
   "cell_type": "markdown",
   "metadata": {},
   "source": [
    "# Density"
   ]
  },
  {
   "cell_type": "code",
   "execution_count": 20,
   "metadata": {},
   "outputs": [
    {
     "data": {
      "image/png": "[encoded data removed]",
      "text/plain": [
       "<Figure size 432x288 with 1 Axes>"
      ]
     },
     "metadata": {
      "needs_background": "light"
     },
     "output_type": "display_data"
    }
   ],
   "source": [
    "data['Income'].plot(kind = 'density', ls = '--')\n",
    "plt.xlabel('Income ($k)')\n",
    "plt.title('Density - Income')\n",
    "plt.tight_layout()\n",
    "plt.show()"
   ]
  },
  {
   "cell_type": "code",
   "execution_count": 21,
   "metadata": {},
   "outputs": [
    {
     "name": "stderr",
     "output_type": "stream",
     "text": [
      "D:\\ZAnaconda\\lib\\site-packages\\seaborn\\distributions.py:2557: FutureWarning: `distplot` is a deprecated function and will be removed in a future version. Please adapt your code to use either `displot` (a figure-level function with similar flexibility) or `histplot` (an axes-level function for histograms).\n",
      "  warnings.warn(msg, FutureWarning)\n"
     ]
    },
    {
     "data": {
      "text/plain": [
       "<AxesSubplot:xlabel='Income', ylabel='Density'>"
      ]
     },
     "execution_count": 21,
     "metadata": {},
     "output_type": "execute_result"
    },
    {
     "data": {
      "image/png": "[encoded data removed]",
      "text/plain": [
       "<Figure size 432x288 with 1 Axes>"
      ]
     },
     "metadata": {
      "needs_background": "light"
     },
     "output_type": "display_data"
    }
   ],
   "source": [
    "sns.distplot(data['Income'], hist=True, kde=True, \n",
    "             bins=int(19), color = 'darkblue', \n",
    "             hist_kws={'edgecolor':'black'},\n",
    "             kde_kws={'linewidth': 3})"
   ]
  },
  {
   "cell_type": "markdown",
   "metadata": {},
   "source": [
    "# Histogram with Density"
   ]
  },
  {
   "cell_type": "code",
   "execution_count": 22,
   "metadata": {},
   "outputs": [
    {
     "name": "stderr",
     "output_type": "stream",
     "text": [
      "D:\\ZAnaconda\\lib\\site-packages\\seaborn\\distributions.py:2557: FutureWarning: `distplot` is a deprecated function and will be removed in a future version. Please adapt your code to use either `displot` (a figure-level function with similar flexibility) or `histplot` (an axes-level function for histograms).\n",
      "  warnings.warn(msg, FutureWarning)\n"
     ]
    },
    {
     "data": {
      "text/plain": [
       "<AxesSubplot:xlabel='Income', ylabel='Density'>"
      ]
     },
     "execution_count": 22,
     "metadata": {},
     "output_type": "execute_result"
    },
    {
     "data": {
      "image/png": "[encoded data removed]",
      "text/plain": [
       "<Figure size 432x288 with 1 Axes>"
      ]
     },
     "metadata": {
      "needs_background": "light"
     },
     "output_type": "display_data"
    }
   ],
   "source": [
    "sns.distplot(data['Income'], hist=True, kde=True, \n",
    "             bins=int(19), color = 'darkblue', \n",
    "             hist_kws={'edgecolor':'black'},\n",
    "             kde_kws={'linewidth': 3})\n",
    "# For better pdf plots - https://docs.scipy.org/doc/scipy/reference/generated/scipy.stats.norm.html"
   ]
  },
  {
   "cell_type": "code",
   "execution_count": 22,
   "metadata": {},
   "outputs": [
    {
     "data": {
      "text/plain": [
       "matplotlib.axes._subplots.AxesSubplot"
      ]
     },
     "execution_count": 22,
     "metadata": {},
     "output_type": "execute_result"
    },
    {
     "data": {
      "image/png": "[encoded data removed]",
      "text/plain": [
       "<matplotlib.figure.Figure at 0x2420ec5cb38>"
      ]
     },
     "metadata": {},
     "output_type": "display_data"
    }
   ],
   "source": []
  },
  {
   "cell_type": "markdown",
   "metadata": {},
   "source": [
    "# Boxplot"
   ]
  },
  {
   "cell_type": "code",
   "execution_count": 33,
   "metadata": {},
   "outputs": [
    {
     "data": {
      "text/plain": [
       "<AxesSubplot:ylabel='Income'>"
      ]
     },
     "execution_count": 33,
     "metadata": {},
     "output_type": "execute_result"
    },
    {
     "data": {
      "image/png": "[encoded data removed]",
      "text/plain": [
       "<Figure size 432x288 with 1 Axes>"
      ]
     },
     "metadata": {
      "needs_background": "light"
     },
     "output_type": "display_data"
    }
   ],
   "source": [
    "sns.boxplot(y=\"Income\" \n",
    "            #, x=\"Attrition\"\n",
    "            , palette=[\"m\", \"g\"]\n",
    "            , data=data)   "
   ]
  },
  {
   "cell_type": "code",
   "execution_count": 31,
   "metadata": {},
   "outputs": [
    {
     "data": {
      "text/plain": [
       "<AxesSubplot:xlabel='Attrition', ylabel='Income'>"
      ]
     },
     "execution_count": 31,
     "metadata": {},
     "output_type": "execute_result"
    },
    {
     "data": {
      "image/png": "[encoded data removed]",
      "text/plain": [
       "<Figure size 432x288 with 1 Axes>"
      ]
     },
     "metadata": {
      "needs_background": "light"
     },
     "output_type": "display_data"
    }
   ],
   "source": [
    "sns.boxplot(y=\"Income\" \n",
    "            , x=\"Attrition\"\n",
    "            , palette=[\"m\", \"g\"]\n",
    "            , data=data)   "
   ]
  },
  {
   "cell_type": "code",
   "execution_count": 33,
   "metadata": {},
   "outputs": [
    {
     "data": {
      "image/png": "[encoded data removed]",
      "text/plain": [
       "<matplotlib.figure.Figure at 0x2420eaf0e10>"
      ]
     },
     "metadata": {},
     "output_type": "display_data"
    }
   ],
   "source": []
  },
  {
   "cell_type": "code",
   "execution_count": 32,
   "metadata": {},
   "outputs": [
    {
     "data": {
      "text/html": [
       "<div>\n",
       "<style scoped>\n",
       "    .dataframe tbody tr th:only-of-type {\n",
       "        vertical-align: middle;\n",
       "    }\n",
       "\n",
       "    .dataframe tbody tr th {\n",
       "        vertical-align: top;\n",
       "    }\n",
       "\n",
       "    .dataframe thead th {\n",
       "        text-align: right;\n",
       "    }\n",
       "</style>\n",
       "<table border=\"1\" class=\"dataframe\">\n",
       "  <thead>\n",
       "    <tr style=\"text-align: right;\">\n",
       "      <th></th>\n",
       "      <th>Sepal.Length</th>\n",
       "      <th>Sepal.Width</th>\n",
       "      <th>Petal.Length</th>\n",
       "      <th>Petal.Width</th>\n",
       "      <th>Species</th>\n",
       "    </tr>\n",
       "  </thead>\n",
       "  <tbody>\n",
       "    <tr>\n",
       "      <th>0</th>\n",
       "      <td>5.1</td>\n",
       "      <td>3.5</td>\n",
       "      <td>1.4</td>\n",
       "      <td>0.2</td>\n",
       "      <td>setosa</td>\n",
       "    </tr>\n",
       "    <tr>\n",
       "      <th>1</th>\n",
       "      <td>4.9</td>\n",
       "      <td>3.0</td>\n",
       "      <td>1.4</td>\n",
       "      <td>0.2</td>\n",
       "      <td>setosa</td>\n",
       "    </tr>\n",
       "    <tr>\n",
       "      <th>2</th>\n",
       "      <td>4.7</td>\n",
       "      <td>3.2</td>\n",
       "      <td>1.3</td>\n",
       "      <td>0.2</td>\n",
       "      <td>setosa</td>\n",
       "    </tr>\n",
       "    <tr>\n",
       "      <th>3</th>\n",
       "      <td>4.6</td>\n",
       "      <td>3.1</td>\n",
       "      <td>1.5</td>\n",
       "      <td>0.2</td>\n",
       "      <td>setosa</td>\n",
       "    </tr>\n",
       "    <tr>\n",
       "      <th>4</th>\n",
       "      <td>5.0</td>\n",
       "      <td>3.6</td>\n",
       "      <td>1.4</td>\n",
       "      <td>0.2</td>\n",
       "      <td>setosa</td>\n",
       "    </tr>\n",
       "    <tr>\n",
       "      <th>...</th>\n",
       "      <td>...</td>\n",
       "      <td>...</td>\n",
       "      <td>...</td>\n",
       "      <td>...</td>\n",
       "      <td>...</td>\n",
       "    </tr>\n",
       "    <tr>\n",
       "      <th>145</th>\n",
       "      <td>6.7</td>\n",
       "      <td>3.0</td>\n",
       "      <td>5.2</td>\n",
       "      <td>2.3</td>\n",
       "      <td>virginica</td>\n",
       "    </tr>\n",
       "    <tr>\n",
       "      <th>146</th>\n",
       "      <td>6.3</td>\n",
       "      <td>2.5</td>\n",
       "      <td>5.0</td>\n",
       "      <td>1.9</td>\n",
       "      <td>virginica</td>\n",
       "    </tr>\n",
       "    <tr>\n",
       "      <th>147</th>\n",
       "      <td>6.5</td>\n",
       "      <td>3.0</td>\n",
       "      <td>5.2</td>\n",
       "      <td>2.0</td>\n",
       "      <td>virginica</td>\n",
       "    </tr>\n",
       "    <tr>\n",
       "      <th>148</th>\n",
       "      <td>6.2</td>\n",
       "      <td>3.4</td>\n",
       "      <td>5.4</td>\n",
       "      <td>2.3</td>\n",
       "      <td>virginica</td>\n",
       "    </tr>\n",
       "    <tr>\n",
       "      <th>149</th>\n",
       "      <td>5.9</td>\n",
       "      <td>3.0</td>\n",
       "      <td>5.1</td>\n",
       "      <td>1.8</td>\n",
       "      <td>virginica</td>\n",
       "    </tr>\n",
       "  </tbody>\n",
       "</table>\n",
       "<p>150 rows × 5 columns</p>\n",
       "</div>"
      ],
      "text/plain": [
       "     Sepal.Length  Sepal.Width  Petal.Length  Petal.Width    Species\n",
       "0             5.1          3.5           1.4          0.2     setosa\n",
       "1             4.9          3.0           1.4          0.2     setosa\n",
       "2             4.7          3.2           1.3          0.2     setosa\n",
       "3             4.6          3.1           1.5          0.2     setosa\n",
       "4             5.0          3.6           1.4          0.2     setosa\n",
       "..            ...          ...           ...          ...        ...\n",
       "145           6.7          3.0           5.2          2.3  virginica\n",
       "146           6.3          2.5           5.0          1.9  virginica\n",
       "147           6.5          3.0           5.2          2.0  virginica\n",
       "148           6.2          3.4           5.4          2.3  virginica\n",
       "149           5.9          3.0           5.1          1.8  virginica\n",
       "\n",
       "[150 rows x 5 columns]"
      ]
     },
     "execution_count": 32,
     "metadata": {},
     "output_type": "execute_result"
    }
   ],
   "source": [
    "data3"
   ]
  },
  {
   "cell_type": "code",
   "execution_count": 37,
   "metadata": {},
   "outputs": [
    {
     "data": {
      "text/plain": [
       "<AxesSubplot:>"
      ]
     },
     "execution_count": 37,
     "metadata": {},
     "output_type": "execute_result"
    },
    {
     "data": {
      "image/png": "[encoded data removed]",
      "text/plain": [
       "<Figure size 432x288 with 1 Axes>"
      ]
     },
     "metadata": {
      "needs_background": "light"
     },
     "output_type": "display_data"
    }
   ],
   "source": [
    "sns.boxplot( palette=[\"m\", \"g\"]\n",
    "            , orient = 'h'\n",
    "            , data=data3)   "
   ]
  },
  {
   "cell_type": "code",
   "execution_count": 44,
   "metadata": {},
   "outputs": [
    {
     "data": {
      "text/plain": [
       "{'boxes': [<matplotlib.lines.Line2D at 0x24210783f98>],\n",
       " 'caps': [<matplotlib.lines.Line2D at 0x2421078fb00>,\n",
       "  <matplotlib.lines.Line2D at 0x2421078ff60>],\n",
       " 'fliers': [<matplotlib.lines.Line2D at 0x24210795860>],\n",
       " 'means': [],\n",
       " 'medians': [<matplotlib.lines.Line2D at 0x24210795400>],\n",
       " 'whiskers': [<matplotlib.lines.Line2D at 0x2421078f160>,\n",
       "  <matplotlib.lines.Line2D at 0x2421078f6a0>]}"
      ]
     },
     "execution_count": 44,
     "metadata": {},
     "output_type": "execute_result"
    },
    {
     "data": {
      "image/png": "[encoded data removed]",
      "text/plain": [
       "<matplotlib.figure.Figure at 0x2420f70a240>"
      ]
     },
     "metadata": {},
     "output_type": "display_data"
    }
   ],
   "source": []
  },
  {
   "cell_type": "code",
   "execution_count": 45,
   "metadata": {},
   "outputs": [],
   "source": [
    "a=bp['fliers'][0]"
   ]
  },
  {
   "cell_type": "code",
   "execution_count": 51,
   "metadata": {},
   "outputs": [
    {
     "data": {
      "text/plain": [
       "numpy.ndarray"
      ]
     },
     "execution_count": 51,
     "metadata": {},
     "output_type": "execute_result"
    }
   ],
   "source": [
    "type(a.get_data()[1])"
   ]
  },
  {
   "cell_type": "code",
   "execution_count": 47,
   "metadata": {},
   "outputs": [
    {
     "data": {
      "text/plain": [
       "numpy.ndarray"
      ]
     },
     "execution_count": 47,
     "metadata": {},
     "output_type": "execute_result"
    }
   ],
   "source": [
    "a.get_data()[1]"
   ]
  },
  {
   "cell_type": "markdown",
   "metadata": {},
   "source": [
    "<img src='figaxes.png'>"
   ]
  },
  {
   "cell_type": "code",
   "execution_count": 23,
   "metadata": {},
   "outputs": [
    {
     "data": {
      "image/png": "[encoded data removed]",
      "text/plain": [
       "<matplotlib.figure.Figure at 0x26c02396ef0>"
      ]
     },
     "metadata": {},
     "output_type": "display_data"
    },
    {
     "data": {
      "text/plain": [
       "<matplotlib.figure.Figure at 0x26c028ca080>"
      ]
     },
     "metadata": {},
     "output_type": "display_data"
    }
   ],
   "source": [
    "fig, axes = plt.subplots(nrows=1, ncols=2, figsize=(9, 4))\n",
    "\n",
    "# rectangular box plot\n",
    "bplot1 = axes[0].boxplot(data['Age'])\n",
    "                         \n",
    "# notch shape box plot\n",
    "bplot2 = axes[1].boxplot(data['Income'])\n",
    "\n",
    "plt.show()\n",
    "plt.savefig('matplotlib.png')"
   ]
  },
  {
   "cell_type": "markdown",
   "metadata": {},
   "source": [
    "# Bar Chart"
   ]
  },
  {
   "cell_type": "code",
   "execution_count": 38,
   "metadata": {},
   "outputs": [
    {
     "data": {
      "text/plain": [
       "setosa        50\n",
       "versicolor    50\n",
       "virginica     50\n",
       "Name: Species, dtype: int64"
      ]
     },
     "execution_count": 38,
     "metadata": {},
     "output_type": "execute_result"
    }
   ],
   "source": [
    "data3['Species'].value_counts()"
   ]
  },
  {
   "cell_type": "code",
   "execution_count": 39,
   "metadata": {},
   "outputs": [
    {
     "data": {
      "text/plain": [
       "<AxesSubplot:xlabel='Sepal.Length', ylabel='Species'>"
      ]
     },
     "execution_count": 39,
     "metadata": {},
     "output_type": "execute_result"
    },
    {
     "data": {
      "image/png": "[encoded data removed]",
      "text/plain": [
       "<Figure size 432x288 with 1 Axes>"
      ]
     },
     "metadata": {
      "needs_background": "light"
     },
     "output_type": "display_data"
    }
   ],
   "source": [
    "# Lenght\n",
    "sns.barplot(x=\"Sepal.Length\", y=\"Species\", data=data3,\n",
    "                   color=\"b\")"
   ]
  },
  {
   "cell_type": "code",
   "execution_count": 19,
   "metadata": {},
   "outputs": [
    {
     "data": {
      "text/plain": [
       "<Container object of 1470 artists>"
      ]
     },
     "execution_count": 19,
     "metadata": {},
     "output_type": "execute_result"
    },
    {
     "data": {
      "image/png": "[encoded data removed]",
      "text/plain": [
       "<matplotlib.figure.Figure at 0x26c018ce4e0>"
      ]
     },
     "metadata": {},
     "output_type": "display_data"
    }
   ],
   "source": []
  },
  {
   "cell_type": "markdown",
   "metadata": {},
   "source": [
    "# Line Plot"
   ]
  },
  {
   "cell_type": "code",
   "execution_count": 40,
   "metadata": {},
   "outputs": [
    {
     "data": {
      "text/html": [
       "<div>\n",
       "<style scoped>\n",
       "    .dataframe tbody tr th:only-of-type {\n",
       "        vertical-align: middle;\n",
       "    }\n",
       "\n",
       "    .dataframe tbody tr th {\n",
       "        vertical-align: top;\n",
       "    }\n",
       "\n",
       "    .dataframe thead th {\n",
       "        text-align: right;\n",
       "    }\n",
       "</style>\n",
       "<table border=\"1\" class=\"dataframe\">\n",
       "  <thead>\n",
       "    <tr style=\"text-align: right;\">\n",
       "      <th></th>\n",
       "      <th>NewVolSales</th>\n",
       "      <th>Base Price</th>\n",
       "      <th>Radio</th>\n",
       "      <th>TV</th>\n",
       "      <th>InStore</th>\n",
       "      <th>Facebook</th>\n",
       "      <th>Twitter</th>\n",
       "      <th>WebCamp</th>\n",
       "      <th>Online</th>\n",
       "      <th>Website Campaign</th>\n",
       "      <th>...</th>\n",
       "      <th>tvst60</th>\n",
       "      <th>tvst70</th>\n",
       "      <th>tvst80</th>\n",
       "      <th>tvst90</th>\n",
       "      <th>radiost30</th>\n",
       "      <th>radiost60</th>\n",
       "      <th>radiost70</th>\n",
       "      <th>radiost80</th>\n",
       "      <th>radiost90</th>\n",
       "      <th>Stout</th>\n",
       "    </tr>\n",
       "  </thead>\n",
       "  <tbody>\n",
       "    <tr>\n",
       "      <th>0</th>\n",
       "      <td>19564</td>\n",
       "      <td>15.029276</td>\n",
       "      <td>245.0</td>\n",
       "      <td>145.4</td>\n",
       "      <td>15.452</td>\n",
       "      <td>0</td>\n",
       "      <td>0</td>\n",
       "      <td>0</td>\n",
       "      <td>0</td>\n",
       "      <td>NaN</td>\n",
       "      <td>...</td>\n",
       "      <td>87.240000</td>\n",
       "      <td>101.780000</td>\n",
       "      <td>116.320000</td>\n",
       "      <td>130.860000</td>\n",
       "      <td>73.500000</td>\n",
       "      <td>147.000000</td>\n",
       "      <td>171.500000</td>\n",
       "      <td>196.000000</td>\n",
       "      <td>220.500000</td>\n",
       "      <td>2.28342</td>\n",
       "    </tr>\n",
       "    <tr>\n",
       "      <th>1</th>\n",
       "      <td>19387</td>\n",
       "      <td>15.029276</td>\n",
       "      <td>314.0</td>\n",
       "      <td>66.0</td>\n",
       "      <td>16.388</td>\n",
       "      <td>0</td>\n",
       "      <td>0</td>\n",
       "      <td>0</td>\n",
       "      <td>0</td>\n",
       "      <td>NaN</td>\n",
       "      <td>...</td>\n",
       "      <td>74.496000</td>\n",
       "      <td>76.734000</td>\n",
       "      <td>76.064000</td>\n",
       "      <td>72.486000</td>\n",
       "      <td>145.650000</td>\n",
       "      <td>247.200000</td>\n",
       "      <td>271.250000</td>\n",
       "      <td>290.400000</td>\n",
       "      <td>304.650000</td>\n",
       "      <td>2.22134</td>\n",
       "    </tr>\n",
       "    <tr>\n",
       "      <th>2</th>\n",
       "      <td>23889</td>\n",
       "      <td>14.585093</td>\n",
       "      <td>324.0</td>\n",
       "      <td>155.1</td>\n",
       "      <td>62.692</td>\n",
       "      <td>0</td>\n",
       "      <td>0</td>\n",
       "      <td>0</td>\n",
       "      <td>0</td>\n",
       "      <td>NaN</td>\n",
       "      <td>...</td>\n",
       "      <td>122.858400</td>\n",
       "      <td>131.590200</td>\n",
       "      <td>139.292800</td>\n",
       "      <td>146.838600</td>\n",
       "      <td>199.155000</td>\n",
       "      <td>293.280000</td>\n",
       "      <td>308.175000</td>\n",
       "      <td>317.280000</td>\n",
       "      <td>322.065000</td>\n",
       "      <td>2.00604</td>\n",
       "    </tr>\n",
       "    <tr>\n",
       "      <th>3</th>\n",
       "      <td>20055</td>\n",
       "      <td>15.332887</td>\n",
       "      <td>298.0</td>\n",
       "      <td>114.5</td>\n",
       "      <td>16.573</td>\n",
       "      <td>0</td>\n",
       "      <td>0</td>\n",
       "      <td>0</td>\n",
       "      <td>0</td>\n",
       "      <td>NaN</td>\n",
       "      <td>...</td>\n",
       "      <td>117.843360</td>\n",
       "      <td>119.627060</td>\n",
       "      <td>119.458560</td>\n",
       "      <td>117.733860</td>\n",
       "      <td>228.808500</td>\n",
       "      <td>296.112000</td>\n",
       "      <td>301.052500</td>\n",
       "      <td>301.856000</td>\n",
       "      <td>300.406500</td>\n",
       "      <td>2.19897</td>\n",
       "    </tr>\n",
       "    <tr>\n",
       "      <th>4</th>\n",
       "      <td>20064</td>\n",
       "      <td>15.642632</td>\n",
       "      <td>279.0</td>\n",
       "      <td>96.5</td>\n",
       "      <td>41.504</td>\n",
       "      <td>0</td>\n",
       "      <td>0</td>\n",
       "      <td>0</td>\n",
       "      <td>0</td>\n",
       "      <td>NaN</td>\n",
       "      <td>...</td>\n",
       "      <td>105.037344</td>\n",
       "      <td>103.438118</td>\n",
       "      <td>101.091712</td>\n",
       "      <td>98.623386</td>\n",
       "      <td>243.865950</td>\n",
       "      <td>285.844800</td>\n",
       "      <td>285.615750</td>\n",
       "      <td>283.571200</td>\n",
       "      <td>281.140650</td>\n",
       "      <td>1.81860</td>\n",
       "    </tr>\n",
       "    <tr>\n",
       "      <th>...</th>\n",
       "      <td>...</td>\n",
       "      <td>...</td>\n",
       "      <td>...</td>\n",
       "      <td>...</td>\n",
       "      <td>...</td>\n",
       "      <td>...</td>\n",
       "      <td>...</td>\n",
       "      <td>...</td>\n",
       "      <td>...</td>\n",
       "      <td>...</td>\n",
       "      <td>...</td>\n",
       "      <td>...</td>\n",
       "      <td>...</td>\n",
       "      <td>...</td>\n",
       "      <td>...</td>\n",
       "      <td>...</td>\n",
       "      <td>...</td>\n",
       "      <td>...</td>\n",
       "      <td>...</td>\n",
       "      <td>...</td>\n",
       "      <td>...</td>\n",
       "    </tr>\n",
       "    <tr>\n",
       "      <th>99</th>\n",
       "      <td>18335</td>\n",
       "      <td>15.958634</td>\n",
       "      <td>292.0</td>\n",
       "      <td>24.1</td>\n",
       "      <td>29.485</td>\n",
       "      <td>0</td>\n",
       "      <td>0</td>\n",
       "      <td>0</td>\n",
       "      <td>0</td>\n",
       "      <td>NaN</td>\n",
       "      <td>...</td>\n",
       "      <td>84.898962</td>\n",
       "      <td>71.611508</td>\n",
       "      <td>56.914647</td>\n",
       "      <td>40.925503</td>\n",
       "      <td>257.228689</td>\n",
       "      <td>279.449752</td>\n",
       "      <td>284.168883</td>\n",
       "      <td>287.783964</td>\n",
       "      <td>290.365628</td>\n",
       "      <td>3.08540</td>\n",
       "    </tr>\n",
       "    <tr>\n",
       "      <th>100</th>\n",
       "      <td>19054</td>\n",
       "      <td>15.642632</td>\n",
       "      <td>NaN</td>\n",
       "      <td>162.3</td>\n",
       "      <td>48.611</td>\n",
       "      <td>0</td>\n",
       "      <td>0</td>\n",
       "      <td>0</td>\n",
       "      <td>0</td>\n",
       "      <td>NaN</td>\n",
       "      <td>...</td>\n",
       "      <td>131.339585</td>\n",
       "      <td>135.093453</td>\n",
       "      <td>141.222929</td>\n",
       "      <td>150.162550</td>\n",
       "      <td>273.660082</td>\n",
       "      <td>298.979901</td>\n",
       "      <td>303.650665</td>\n",
       "      <td>307.156793</td>\n",
       "      <td>309.836563</td>\n",
       "      <td>2.65688</td>\n",
       "    </tr>\n",
       "    <tr>\n",
       "      <th>101</th>\n",
       "      <td>18198</td>\n",
       "      <td>15.958634</td>\n",
       "      <td>NaN</td>\n",
       "      <td>194.9</td>\n",
       "      <td>29.323</td>\n",
       "      <td>0</td>\n",
       "      <td>0</td>\n",
       "      <td>0</td>\n",
       "      <td>0</td>\n",
       "      <td>NaN</td>\n",
       "      <td>...</td>\n",
       "      <td>169.475834</td>\n",
       "      <td>176.958036</td>\n",
       "      <td>184.164586</td>\n",
       "      <td>190.426255</td>\n",
       "      <td>286.062058</td>\n",
       "      <td>308.591960</td>\n",
       "      <td>311.595199</td>\n",
       "      <td>313.431358</td>\n",
       "      <td>314.483656</td>\n",
       "      <td>2.92802</td>\n",
       "    </tr>\n",
       "    <tr>\n",
       "      <th>102</th>\n",
       "      <td>20495</td>\n",
       "      <td>15.642632</td>\n",
       "      <td>NaN</td>\n",
       "      <td>159.2</td>\n",
       "      <td>50.935</td>\n",
       "      <td>0</td>\n",
       "      <td>0</td>\n",
       "      <td>0</td>\n",
       "      <td>0</td>\n",
       "      <td>NaN</td>\n",
       "      <td>...</td>\n",
       "      <td>163.310334</td>\n",
       "      <td>164.527411</td>\n",
       "      <td>164.192917</td>\n",
       "      <td>162.322625</td>\n",
       "      <td>303.143440</td>\n",
       "      <td>329.236784</td>\n",
       "      <td>333.578560</td>\n",
       "      <td>337.086272</td>\n",
       "      <td>340.148366</td>\n",
       "      <td>2.53958</td>\n",
       "    </tr>\n",
       "    <tr>\n",
       "      <th>103</th>\n",
       "      <td>18169</td>\n",
       "      <td>16.281020</td>\n",
       "      <td>NaN</td>\n",
       "      <td>161.1</td>\n",
       "      <td>46.169</td>\n",
       "      <td>0</td>\n",
       "      <td>0</td>\n",
       "      <td>0</td>\n",
       "      <td>0</td>\n",
       "      <td>NaN</td>\n",
       "      <td>...</td>\n",
       "      <td>161.984133</td>\n",
       "      <td>162.128223</td>\n",
       "      <td>161.718583</td>\n",
       "      <td>161.222263</td>\n",
       "      <td>311.200408</td>\n",
       "      <td>329.694714</td>\n",
       "      <td>331.073568</td>\n",
       "      <td>331.417254</td>\n",
       "      <td>331.014837</td>\n",
       "      <td>2.66790</td>\n",
       "    </tr>\n",
       "  </tbody>\n",
       "</table>\n",
       "<p>104 rows × 24 columns</p>\n",
       "</div>"
      ],
      "text/plain": [
       "     NewVolSales  Base Price  Radio     TV   InStore  Facebook  Twitter  \\\n",
       "0          19564   15.029276   245.0  145.4   15.452         0        0   \n",
       "1          19387   15.029276   314.0   66.0   16.388         0        0   \n",
       "2          23889   14.585093   324.0  155.1   62.692         0        0   \n",
       "3          20055   15.332887   298.0  114.5   16.573         0        0   \n",
       "4          20064   15.642632   279.0   96.5   41.504         0        0   \n",
       "..           ...         ...     ...    ...      ...       ...      ...   \n",
       "99         18335   15.958634   292.0   24.1   29.485         0        0   \n",
       "100        19054   15.642632     NaN  162.3   48.611         0        0   \n",
       "101        18198   15.958634     NaN  194.9   29.323         0        0   \n",
       "102        20495   15.642632     NaN  159.2   50.935         0        0   \n",
       "103        18169   16.281020     NaN  161.1   46.169         0        0   \n",
       "\n",
       "     WebCamp  Online Website Campaign   ...      tvst60      tvst70  \\\n",
       "0          0       0               NaN  ...   87.240000  101.780000   \n",
       "1          0       0               NaN  ...   74.496000   76.734000   \n",
       "2          0       0               NaN  ...  122.858400  131.590200   \n",
       "3          0       0               NaN  ...  117.843360  119.627060   \n",
       "4          0       0               NaN  ...  105.037344  103.438118   \n",
       "..       ...     ...               ...  ...         ...         ...   \n",
       "99         0       0               NaN  ...   84.898962   71.611508   \n",
       "100        0       0               NaN  ...  131.339585  135.093453   \n",
       "101        0       0               NaN  ...  169.475834  176.958036   \n",
       "102        0       0               NaN  ...  163.310334  164.527411   \n",
       "103        0       0               NaN  ...  161.984133  162.128223   \n",
       "\n",
       "         tvst80      tvst90   radiost30   radiost60   radiost70   radiost80  \\\n",
       "0    116.320000  130.860000   73.500000  147.000000  171.500000  196.000000   \n",
       "1     76.064000   72.486000  145.650000  247.200000  271.250000  290.400000   \n",
       "2    139.292800  146.838600  199.155000  293.280000  308.175000  317.280000   \n",
       "3    119.458560  117.733860  228.808500  296.112000  301.052500  301.856000   \n",
       "4    101.091712   98.623386  243.865950  285.844800  285.615750  283.571200   \n",
       "..          ...         ...         ...         ...         ...         ...   \n",
       "99    56.914647   40.925503  257.228689  279.449752  284.168883  287.783964   \n",
       "100  141.222929  150.162550  273.660082  298.979901  303.650665  307.156793   \n",
       "101  184.164586  190.426255  286.062058  308.591960  311.595199  313.431358   \n",
       "102  164.192917  162.322625  303.143440  329.236784  333.578560  337.086272   \n",
       "103  161.718583  161.222263  311.200408  329.694714  331.073568  331.417254   \n",
       "\n",
       "      radiost90    Stout  \n",
       "0    220.500000  2.28342  \n",
       "1    304.650000  2.22134  \n",
       "2    322.065000  2.00604  \n",
       "3    300.406500  2.19897  \n",
       "4    281.140650  1.81860  \n",
       "..          ...      ...  \n",
       "99   290.365628  3.08540  \n",
       "100  309.836563  2.65688  \n",
       "101  314.483656  2.92802  \n",
       "102  340.148366  2.53958  \n",
       "103  331.014837  2.66790  \n",
       "\n",
       "[104 rows x 24 columns]"
      ]
     },
     "execution_count": 40,
     "metadata": {},
     "output_type": "execute_result"
    }
   ],
   "source": [
    "data2"
   ]
  },
  {
   "cell_type": "code",
   "execution_count": 41,
   "metadata": {},
   "outputs": [
    {
     "data": {
      "text/plain": [
       "<AxesSubplot:ylabel='NewVolSales'>"
      ]
     },
     "execution_count": 41,
     "metadata": {},
     "output_type": "execute_result"
    },
    {
     "data": {
      "image/png": "[encoded data removed]",
      "text/plain": [
       "<Figure size 432x288 with 1 Axes>"
      ]
     },
     "metadata": {
      "needs_background": "light"
     },
     "output_type": "display_data"
    }
   ],
   "source": [
    "sns.lineplot(data=data2['NewVolSales'], palette=\"tab10\", linewidth=2.5)"
   ]
  },
  {
   "cell_type": "code",
   "execution_count": 67,
   "metadata": {
    "scrolled": true
   },
   "outputs": [
    {
     "data": {
      "image/png": "[encoded data removed]",
      "text/plain": [
       "<matplotlib.figure.Figure at 0x24210f94cc0>"
      ]
     },
     "metadata": {},
     "output_type": "display_data"
    }
   ],
   "source": []
  }
 ],
 "metadata": {
  "kernelspec": {
   "display_name": "Python 3",
   "language": "python",
   "name": "python3"
  },
  "language_info": {
   "codemirror_mode": {
    "name": "ipython",
    "version": 3
   },
   "file_extension": ".py",
   "mimetype": "text/x-python",
   "name": "python",
   "nbconvert_exporter": "python",
   "pygments_lexer": "ipython3",
   "version": "3.8.8"
  }
 },
 "nbformat": 4,
 "nbformat_minor": 4
}
