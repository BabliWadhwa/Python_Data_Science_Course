{
 "cells": [
  {
   "cell_type": "code",
   "execution_count": 1,
   "metadata": {},
   "outputs": [],
   "source": [
    "import pandas as pd\n",
    "import numpy as np\n",
    "%matplotlib inline"
   ]
  },
  {
   "cell_type": "code",
   "execution_count": 2,
   "metadata": {},
   "outputs": [],
   "source": [
    "hr_data=pd.read_csv('hr.csv')"
   ]
  },
  {
   "cell_type": "code",
   "execution_count": 3,
   "metadata": {},
   "outputs": [
    {
     "data": {
      "text/html": [
       "<div>\n",
       "<style scoped>\n",
       "    .dataframe tbody tr th:only-of-type {\n",
       "        vertical-align: middle;\n",
       "    }\n",
       "\n",
       "    .dataframe tbody tr th {\n",
       "        vertical-align: top;\n",
       "    }\n",
       "\n",
       "    .dataframe thead th {\n",
       "        text-align: right;\n",
       "    }\n",
       "</style>\n",
       "<table border=\"1\" class=\"dataframe\">\n",
       "  <thead>\n",
       "    <tr style=\"text-align: right;\">\n",
       "      <th></th>\n",
       "      <th>satisfaction_level</th>\n",
       "      <th>last_evaluation</th>\n",
       "      <th>number_project</th>\n",
       "      <th>average_montly_hours</th>\n",
       "      <th>time_spend_company</th>\n",
       "      <th>Work_accident</th>\n",
       "      <th>left</th>\n",
       "      <th>promotion_last_5years</th>\n",
       "      <th>sales</th>\n",
       "      <th>salary</th>\n",
       "    </tr>\n",
       "  </thead>\n",
       "  <tbody>\n",
       "    <tr>\n",
       "      <th>0</th>\n",
       "      <td>0.38</td>\n",
       "      <td>0.53</td>\n",
       "      <td>2</td>\n",
       "      <td>157</td>\n",
       "      <td>3</td>\n",
       "      <td>0</td>\n",
       "      <td>1</td>\n",
       "      <td>0</td>\n",
       "      <td>sales</td>\n",
       "      <td>low</td>\n",
       "    </tr>\n",
       "    <tr>\n",
       "      <th>1</th>\n",
       "      <td>0.80</td>\n",
       "      <td>0.86</td>\n",
       "      <td>5</td>\n",
       "      <td>262</td>\n",
       "      <td>6</td>\n",
       "      <td>0</td>\n",
       "      <td>1</td>\n",
       "      <td>0</td>\n",
       "      <td>sales</td>\n",
       "      <td>medium</td>\n",
       "    </tr>\n",
       "    <tr>\n",
       "      <th>2</th>\n",
       "      <td>0.11</td>\n",
       "      <td>0.88</td>\n",
       "      <td>7</td>\n",
       "      <td>272</td>\n",
       "      <td>4</td>\n",
       "      <td>0</td>\n",
       "      <td>1</td>\n",
       "      <td>0</td>\n",
       "      <td>sales</td>\n",
       "      <td>medium</td>\n",
       "    </tr>\n",
       "    <tr>\n",
       "      <th>3</th>\n",
       "      <td>0.72</td>\n",
       "      <td>0.87</td>\n",
       "      <td>5</td>\n",
       "      <td>223</td>\n",
       "      <td>5</td>\n",
       "      <td>0</td>\n",
       "      <td>1</td>\n",
       "      <td>0</td>\n",
       "      <td>sales</td>\n",
       "      <td>low</td>\n",
       "    </tr>\n",
       "    <tr>\n",
       "      <th>4</th>\n",
       "      <td>0.37</td>\n",
       "      <td>0.52</td>\n",
       "      <td>2</td>\n",
       "      <td>159</td>\n",
       "      <td>3</td>\n",
       "      <td>0</td>\n",
       "      <td>1</td>\n",
       "      <td>0</td>\n",
       "      <td>sales</td>\n",
       "      <td>low</td>\n",
       "    </tr>\n",
       "  </tbody>\n",
       "</table>\n",
       "</div>"
      ],
      "text/plain": [
       "   satisfaction_level  last_evaluation  number_project  average_montly_hours  \\\n",
       "0                0.38             0.53               2                   157   \n",
       "1                0.80             0.86               5                   262   \n",
       "2                0.11             0.88               7                   272   \n",
       "3                0.72             0.87               5                   223   \n",
       "4                0.37             0.52               2                   159   \n",
       "\n",
       "   time_spend_company  Work_accident  left  promotion_last_5years  sales  \\\n",
       "0                   3              0     1                      0  sales   \n",
       "1                   6              0     1                      0  sales   \n",
       "2                   4              0     1                      0  sales   \n",
       "3                   5              0     1                      0  sales   \n",
       "4                   3              0     1                      0  sales   \n",
       "\n",
       "   salary  \n",
       "0     low  \n",
       "1  medium  \n",
       "2  medium  \n",
       "3     low  \n",
       "4     low  "
      ]
     },
     "execution_count": 3,
     "metadata": {},
     "output_type": "execute_result"
    }
   ],
   "source": [
    "hr_data.head()"
   ]
  },
  {
   "cell_type": "code",
   "execution_count": 4,
   "metadata": {},
   "outputs": [
    {
     "data": {
      "text/plain": [
       "satisfaction_level       0\n",
       "last_evaluation          0\n",
       "number_project           0\n",
       "average_montly_hours     0\n",
       "time_spend_company       0\n",
       "Work_accident            0\n",
       "left                     0\n",
       "promotion_last_5years    0\n",
       "sales                    0\n",
       "salary                   0\n",
       "dtype: int64"
      ]
     },
     "execution_count": 4,
     "metadata": {},
     "output_type": "execute_result"
    }
   ],
   "source": [
    "hr_data.isnull().sum()"
   ]
  },
  {
   "cell_type": "code",
   "execution_count": 5,
   "metadata": {},
   "outputs": [
    {
     "data": {
      "text/plain": [
       "satisfaction_level       float64\n",
       "last_evaluation          float64\n",
       "number_project             int64\n",
       "average_montly_hours       int64\n",
       "time_spend_company         int64\n",
       "Work_accident              int64\n",
       "left                       int64\n",
       "promotion_last_5years      int64\n",
       "sales                     object\n",
       "salary                    object\n",
       "dtype: object"
      ]
     },
     "execution_count": 5,
     "metadata": {},
     "output_type": "execute_result"
    }
   ],
   "source": [
    "hr_data.dtypes"
   ]
  },
  {
   "cell_type": "code",
   "execution_count": 6,
   "metadata": {},
   "outputs": [
    {
     "data": {
      "text/plain": [
       "['sales',\n",
       " 'accounting',\n",
       " 'hr',\n",
       " 'technical',\n",
       " 'support',\n",
       " 'management',\n",
       " 'IT',\n",
       " 'product_mng',\n",
       " 'marketing',\n",
       " 'RandD']"
      ]
     },
     "execution_count": 6,
     "metadata": {},
     "output_type": "execute_result"
    }
   ],
   "source": [
    "hr_data['sales'].unique().tolist()"
   ]
  },
  {
   "cell_type": "code",
   "execution_count": 7,
   "metadata": {},
   "outputs": [],
   "source": [
    "hr_data.rename(columns={'sales':'dept'},inplace=True)"
   ]
  },
  {
   "cell_type": "code",
   "execution_count": 8,
   "metadata": {},
   "outputs": [
    {
     "data": {
      "text/plain": [
       "0       low\n",
       "1    medium\n",
       "2    medium\n",
       "3       low\n",
       "4       low\n",
       "Name: salary, dtype: object"
      ]
     },
     "execution_count": 8,
     "metadata": {},
     "output_type": "execute_result"
    }
   ],
   "source": [
    "hr_data['salary'].head()"
   ]
  },
  {
   "cell_type": "code",
   "execution_count": 9,
   "metadata": {},
   "outputs": [],
   "source": [
    "X=hr_data.drop('left',axis=1)\n",
    "y=hr_data['left']"
   ]
  },
  {
   "cell_type": "code",
   "execution_count": 10,
   "metadata": {},
   "outputs": [
    {
     "data": {
      "text/html": [
       "<div>\n",
       "<style scoped>\n",
       "    .dataframe tbody tr th:only-of-type {\n",
       "        vertical-align: middle;\n",
       "    }\n",
       "\n",
       "    .dataframe tbody tr th {\n",
       "        vertical-align: top;\n",
       "    }\n",
       "\n",
       "    .dataframe thead th {\n",
       "        text-align: right;\n",
       "    }\n",
       "</style>\n",
       "<table border=\"1\" class=\"dataframe\">\n",
       "  <thead>\n",
       "    <tr style=\"text-align: right;\">\n",
       "      <th></th>\n",
       "      <th>satisfaction_level</th>\n",
       "      <th>last_evaluation</th>\n",
       "      <th>number_project</th>\n",
       "      <th>average_montly_hours</th>\n",
       "      <th>time_spend_company</th>\n",
       "      <th>Work_accident</th>\n",
       "      <th>promotion_last_5years</th>\n",
       "      <th>dept</th>\n",
       "      <th>salary</th>\n",
       "    </tr>\n",
       "  </thead>\n",
       "  <tbody>\n",
       "    <tr>\n",
       "      <th>0</th>\n",
       "      <td>0.38</td>\n",
       "      <td>0.53</td>\n",
       "      <td>2</td>\n",
       "      <td>157</td>\n",
       "      <td>3</td>\n",
       "      <td>0</td>\n",
       "      <td>0</td>\n",
       "      <td>sales</td>\n",
       "      <td>low</td>\n",
       "    </tr>\n",
       "    <tr>\n",
       "      <th>1</th>\n",
       "      <td>0.80</td>\n",
       "      <td>0.86</td>\n",
       "      <td>5</td>\n",
       "      <td>262</td>\n",
       "      <td>6</td>\n",
       "      <td>0</td>\n",
       "      <td>0</td>\n",
       "      <td>sales</td>\n",
       "      <td>medium</td>\n",
       "    </tr>\n",
       "    <tr>\n",
       "      <th>2</th>\n",
       "      <td>0.11</td>\n",
       "      <td>0.88</td>\n",
       "      <td>7</td>\n",
       "      <td>272</td>\n",
       "      <td>4</td>\n",
       "      <td>0</td>\n",
       "      <td>0</td>\n",
       "      <td>sales</td>\n",
       "      <td>medium</td>\n",
       "    </tr>\n",
       "    <tr>\n",
       "      <th>3</th>\n",
       "      <td>0.72</td>\n",
       "      <td>0.87</td>\n",
       "      <td>5</td>\n",
       "      <td>223</td>\n",
       "      <td>5</td>\n",
       "      <td>0</td>\n",
       "      <td>0</td>\n",
       "      <td>sales</td>\n",
       "      <td>low</td>\n",
       "    </tr>\n",
       "    <tr>\n",
       "      <th>4</th>\n",
       "      <td>0.37</td>\n",
       "      <td>0.52</td>\n",
       "      <td>2</td>\n",
       "      <td>159</td>\n",
       "      <td>3</td>\n",
       "      <td>0</td>\n",
       "      <td>0</td>\n",
       "      <td>sales</td>\n",
       "      <td>low</td>\n",
       "    </tr>\n",
       "  </tbody>\n",
       "</table>\n",
       "</div>"
      ],
      "text/plain": [
       "   satisfaction_level  last_evaluation  number_project  average_montly_hours  \\\n",
       "0                0.38             0.53               2                   157   \n",
       "1                0.80             0.86               5                   262   \n",
       "2                0.11             0.88               7                   272   \n",
       "3                0.72             0.87               5                   223   \n",
       "4                0.37             0.52               2                   159   \n",
       "\n",
       "   time_spend_company  Work_accident  promotion_last_5years   dept  salary  \n",
       "0                   3              0                      0  sales     low  \n",
       "1                   6              0                      0  sales  medium  \n",
       "2                   4              0                      0  sales  medium  \n",
       "3                   5              0                      0  sales     low  \n",
       "4                   3              0                      0  sales     low  "
      ]
     },
     "execution_count": 10,
     "metadata": {},
     "output_type": "execute_result"
    }
   ],
   "source": [
    "X.head()"
   ]
  },
  {
   "cell_type": "code",
   "execution_count": 11,
   "metadata": {},
   "outputs": [],
   "source": [
    "X=pd.get_dummies(X, drop_first = True)"
   ]
  },
  {
   "cell_type": "code",
   "execution_count": 12,
   "metadata": {},
   "outputs": [
    {
     "data": {
      "text/html": [
       "<div>\n",
       "<style scoped>\n",
       "    .dataframe tbody tr th:only-of-type {\n",
       "        vertical-align: middle;\n",
       "    }\n",
       "\n",
       "    .dataframe tbody tr th {\n",
       "        vertical-align: top;\n",
       "    }\n",
       "\n",
       "    .dataframe thead th {\n",
       "        text-align: right;\n",
       "    }\n",
       "</style>\n",
       "<table border=\"1\" class=\"dataframe\">\n",
       "  <thead>\n",
       "    <tr style=\"text-align: right;\">\n",
       "      <th></th>\n",
       "      <th>satisfaction_level</th>\n",
       "      <th>last_evaluation</th>\n",
       "      <th>number_project</th>\n",
       "      <th>average_montly_hours</th>\n",
       "      <th>time_spend_company</th>\n",
       "      <th>Work_accident</th>\n",
       "      <th>promotion_last_5years</th>\n",
       "      <th>dept_RandD</th>\n",
       "      <th>dept_accounting</th>\n",
       "      <th>dept_hr</th>\n",
       "      <th>dept_management</th>\n",
       "      <th>dept_marketing</th>\n",
       "      <th>dept_product_mng</th>\n",
       "      <th>dept_sales</th>\n",
       "      <th>dept_support</th>\n",
       "      <th>dept_technical</th>\n",
       "      <th>salary_low</th>\n",
       "      <th>salary_medium</th>\n",
       "    </tr>\n",
       "  </thead>\n",
       "  <tbody>\n",
       "    <tr>\n",
       "      <th>0</th>\n",
       "      <td>0.38</td>\n",
       "      <td>0.53</td>\n",
       "      <td>2</td>\n",
       "      <td>157</td>\n",
       "      <td>3</td>\n",
       "      <td>0</td>\n",
       "      <td>0</td>\n",
       "      <td>0</td>\n",
       "      <td>0</td>\n",
       "      <td>0</td>\n",
       "      <td>0</td>\n",
       "      <td>0</td>\n",
       "      <td>0</td>\n",
       "      <td>1</td>\n",
       "      <td>0</td>\n",
       "      <td>0</td>\n",
       "      <td>1</td>\n",
       "      <td>0</td>\n",
       "    </tr>\n",
       "    <tr>\n",
       "      <th>1</th>\n",
       "      <td>0.80</td>\n",
       "      <td>0.86</td>\n",
       "      <td>5</td>\n",
       "      <td>262</td>\n",
       "      <td>6</td>\n",
       "      <td>0</td>\n",
       "      <td>0</td>\n",
       "      <td>0</td>\n",
       "      <td>0</td>\n",
       "      <td>0</td>\n",
       "      <td>0</td>\n",
       "      <td>0</td>\n",
       "      <td>0</td>\n",
       "      <td>1</td>\n",
       "      <td>0</td>\n",
       "      <td>0</td>\n",
       "      <td>0</td>\n",
       "      <td>1</td>\n",
       "    </tr>\n",
       "    <tr>\n",
       "      <th>2</th>\n",
       "      <td>0.11</td>\n",
       "      <td>0.88</td>\n",
       "      <td>7</td>\n",
       "      <td>272</td>\n",
       "      <td>4</td>\n",
       "      <td>0</td>\n",
       "      <td>0</td>\n",
       "      <td>0</td>\n",
       "      <td>0</td>\n",
       "      <td>0</td>\n",
       "      <td>0</td>\n",
       "      <td>0</td>\n",
       "      <td>0</td>\n",
       "      <td>1</td>\n",
       "      <td>0</td>\n",
       "      <td>0</td>\n",
       "      <td>0</td>\n",
       "      <td>1</td>\n",
       "    </tr>\n",
       "    <tr>\n",
       "      <th>3</th>\n",
       "      <td>0.72</td>\n",
       "      <td>0.87</td>\n",
       "      <td>5</td>\n",
       "      <td>223</td>\n",
       "      <td>5</td>\n",
       "      <td>0</td>\n",
       "      <td>0</td>\n",
       "      <td>0</td>\n",
       "      <td>0</td>\n",
       "      <td>0</td>\n",
       "      <td>0</td>\n",
       "      <td>0</td>\n",
       "      <td>0</td>\n",
       "      <td>1</td>\n",
       "      <td>0</td>\n",
       "      <td>0</td>\n",
       "      <td>1</td>\n",
       "      <td>0</td>\n",
       "    </tr>\n",
       "    <tr>\n",
       "      <th>4</th>\n",
       "      <td>0.37</td>\n",
       "      <td>0.52</td>\n",
       "      <td>2</td>\n",
       "      <td>159</td>\n",
       "      <td>3</td>\n",
       "      <td>0</td>\n",
       "      <td>0</td>\n",
       "      <td>0</td>\n",
       "      <td>0</td>\n",
       "      <td>0</td>\n",
       "      <td>0</td>\n",
       "      <td>0</td>\n",
       "      <td>0</td>\n",
       "      <td>1</td>\n",
       "      <td>0</td>\n",
       "      <td>0</td>\n",
       "      <td>1</td>\n",
       "      <td>0</td>\n",
       "    </tr>\n",
       "  </tbody>\n",
       "</table>\n",
       "</div>"
      ],
      "text/plain": [
       "   satisfaction_level  last_evaluation  number_project  average_montly_hours  \\\n",
       "0                0.38             0.53               2                   157   \n",
       "1                0.80             0.86               5                   262   \n",
       "2                0.11             0.88               7                   272   \n",
       "3                0.72             0.87               5                   223   \n",
       "4                0.37             0.52               2                   159   \n",
       "\n",
       "   time_spend_company  Work_accident  promotion_last_5years  dept_RandD  \\\n",
       "0                   3              0                      0           0   \n",
       "1                   6              0                      0           0   \n",
       "2                   4              0                      0           0   \n",
       "3                   5              0                      0           0   \n",
       "4                   3              0                      0           0   \n",
       "\n",
       "   dept_accounting  dept_hr  dept_management  dept_marketing  \\\n",
       "0                0        0                0               0   \n",
       "1                0        0                0               0   \n",
       "2                0        0                0               0   \n",
       "3                0        0                0               0   \n",
       "4                0        0                0               0   \n",
       "\n",
       "   dept_product_mng  dept_sales  dept_support  dept_technical  salary_low  \\\n",
       "0                 0           1             0               0           1   \n",
       "1                 0           1             0               0           0   \n",
       "2                 0           1             0               0           0   \n",
       "3                 0           1             0               0           1   \n",
       "4                 0           1             0               0           1   \n",
       "\n",
       "   salary_medium  \n",
       "0              0  \n",
       "1              1  \n",
       "2              1  \n",
       "3              0  \n",
       "4              0  "
      ]
     },
     "execution_count": 12,
     "metadata": {},
     "output_type": "execute_result"
    }
   ],
   "source": [
    "X.head()"
   ]
  },
  {
   "cell_type": "code",
   "execution_count": 13,
   "metadata": {},
   "outputs": [],
   "source": [
    "from sklearn.model_selection import train_test_split\n",
    "X_train,X_test,y_train,y_test=train_test_split(X,y,test_size=0.20,random_state=400)"
   ]
  },
  {
   "cell_type": "code",
   "execution_count": 14,
   "metadata": {},
   "outputs": [],
   "source": [
    "from sklearn.ensemble import BaggingClassifier\n",
    "from sklearn.tree import DecisionTreeClassifier"
   ]
  },
  {
   "cell_type": "code",
   "execution_count": 27,
   "metadata": {},
   "outputs": [],
   "source": [
    "clf = BaggingClassifier(oob_score=True,n_jobs=-1,n_estimators=100,random_state=400,\n",
    "                      base_estimator=DecisionTreeClassifier())"
   ]
  },
  {
   "cell_type": "code",
   "execution_count": 28,
   "metadata": {},
   "outputs": [
    {
     "data": {
      "text/plain": [
       "BaggingClassifier(base_estimator=DecisionTreeClassifier(), n_estimators=100,\n",
       "                  n_jobs=-1, oob_score=True, random_state=400)"
      ]
     },
     "execution_count": 28,
     "metadata": {},
     "output_type": "execute_result"
    }
   ],
   "source": [
    "clf.fit(X_train,y_train)"
   ]
  },
  {
   "cell_type": "code",
   "execution_count": 29,
   "metadata": {},
   "outputs": [
    {
     "data": {
      "text/plain": [
       "0.9999166597216435"
      ]
     },
     "execution_count": 29,
     "metadata": {},
     "output_type": "execute_result"
    }
   ],
   "source": [
    "clf.score(X_train,y_train)"
   ]
  },
  {
   "cell_type": "code",
   "execution_count": 30,
   "metadata": {},
   "outputs": [
    {
     "data": {
      "text/plain": [
       "0.989"
      ]
     },
     "execution_count": 30,
     "metadata": {},
     "output_type": "execute_result"
    }
   ],
   "source": [
    "clf.score(X_test,y_test)"
   ]
  },
  {
   "cell_type": "code",
   "execution_count": 31,
   "metadata": {},
   "outputs": [
    {
     "data": {
      "text/plain": [
       "0.9905825485457121"
      ]
     },
     "execution_count": 31,
     "metadata": {},
     "output_type": "execute_result"
    }
   ],
   "source": [
    "clf.oob_score_"
   ]
  },
  {
   "cell_type": "code",
   "execution_count": 32,
   "metadata": {},
   "outputs": [
    {
     "name": "stderr",
     "output_type": "stream",
     "text": [
      "D:\\ZAnaconda\\lib\\site-packages\\sklearn\\ensemble\\_bagging.py:640: UserWarning: Some inputs do not have OOB scores. This probably means too few estimators were used to compute any reliable oob estimates.\n",
      "  warn(\"Some inputs do not have OOB scores. \"\n",
      "D:\\ZAnaconda\\lib\\site-packages\\sklearn\\ensemble\\_bagging.py:644: RuntimeWarning: invalid value encountered in true_divide\n",
      "  oob_decision_function = (predictions /\n"
     ]
    },
    {
     "name": "stdout",
     "output_type": "stream",
     "text": [
      "For n_estimators = 10\n",
      "OOB score is 0.9827485623801984\n",
      "************************\n",
      "For n_estimators = 30\n",
      "OOB score is 0.9891657638136512\n",
      "************************\n",
      "For n_estimators = 50\n",
      "OOB score is 0.9899158263188599\n",
      "************************\n",
      "For n_estimators = 70\n",
      "OOB score is 0.9901658471539295\n",
      "************************\n",
      "For n_estimators = 90\n",
      "OOB score is 0.9906658888240687\n",
      "************************\n",
      "For n_estimators = 110\n",
      "OOB score is 0.990415867988999\n",
      "************************\n",
      "For n_estimators = 130\n",
      "OOB score is 0.9907492291024252\n",
      "************************\n",
      "For n_estimators = 150\n",
      "OOB score is 0.9908325693807817\n",
      "************************\n",
      "For n_estimators = 170\n",
      "OOB score is 0.9904992082673556\n",
      "************************\n",
      "For n_estimators = 190\n",
      "OOB score is 0.9904992082673556\n",
      "************************\n",
      "For n_estimators = 210\n",
      "OOB score is 0.990415867988999\n",
      "************************\n",
      "For n_estimators = 230\n",
      "OOB score is 0.9905825485457121\n",
      "************************\n",
      "For n_estimators = 250\n",
      "OOB score is 0.9905825485457121\n",
      "************************\n",
      "For n_estimators = 270\n",
      "OOB score is 0.9905825485457121\n",
      "************************\n",
      "For n_estimators = 290\n",
      "OOB score is 0.9905825485457121\n",
      "************************\n"
     ]
    }
   ],
   "source": [
    "for w in range(10,300,20):\n",
    "    clf=BaggingClassifier(oob_score=True,n_jobs=-1,n_estimators=w,random_state=400,\n",
    "                          base_estimator=DecisionTreeClassifier())\n",
    "    clf.fit(X_train,y_train)\n",
    "    oob=clf.oob_score_\n",
    "    print ('For n_estimators = '+str(w))\n",
    "    print ('OOB score is '+str(oob))\n",
    "    print ('************************')"
   ]
  },
  {
   "cell_type": "code",
   "execution_count": 33,
   "metadata": {},
   "outputs": [
    {
     "data": {
      "text/plain": [
       "BaggingClassifier(base_estimator=DecisionTreeClassifier(), n_estimators=150,\n",
       "                  n_jobs=-1, oob_score=True, random_state=400)"
      ]
     },
     "execution_count": 33,
     "metadata": {},
     "output_type": "execute_result"
    }
   ],
   "source": [
    "#Finalizing on a tree model with 150 trees\n",
    "clf=BaggingClassifier(oob_score=True,n_jobs=-1,n_estimators=150,random_state=400,\n",
    "                      base_estimator=DecisionTreeClassifier())\n",
    "clf.fit(X_train,y_train)"
   ]
  },
  {
   "cell_type": "code",
   "execution_count": 34,
   "metadata": {
    "scrolled": true,
    "tags": []
   },
   "outputs": [
    {
     "data": {
      "text/plain": [
       "[DecisionTreeClassifier(random_state=1859118377),\n",
       " DecisionTreeClassifier(random_state=1559503733),\n",
       " DecisionTreeClassifier(random_state=1714796222),\n",
       " DecisionTreeClassifier(random_state=1907120008),\n",
       " DecisionTreeClassifier(random_state=2074988447),\n",
       " DecisionTreeClassifier(random_state=270530007),\n",
       " DecisionTreeClassifier(random_state=494610195),\n",
       " DecisionTreeClassifier(random_state=914653141),\n",
       " DecisionTreeClassifier(random_state=1249763274),\n",
       " DecisionTreeClassifier(random_state=1698305238),\n",
       " DecisionTreeClassifier(random_state=764038977),\n",
       " DecisionTreeClassifier(random_state=554023484),\n",
       " DecisionTreeClassifier(random_state=980045649),\n",
       " DecisionTreeClassifier(random_state=618787335),\n",
       " DecisionTreeClassifier(random_state=1478338621),\n",
       " DecisionTreeClassifier(random_state=878522688),\n",
       " DecisionTreeClassifier(random_state=1479530151),\n",
       " DecisionTreeClassifier(random_state=529095905),\n",
       " DecisionTreeClassifier(random_state=1322465795),\n",
       " DecisionTreeClassifier(random_state=2138769912),\n",
       " DecisionTreeClassifier(random_state=61502782),\n",
       " DecisionTreeClassifier(random_state=1799310766),\n",
       " DecisionTreeClassifier(random_state=830858493),\n",
       " DecisionTreeClassifier(random_state=386390921),\n",
       " DecisionTreeClassifier(random_state=557988009),\n",
       " DecisionTreeClassifier(random_state=1236397848),\n",
       " DecisionTreeClassifier(random_state=2117385448),\n",
       " DecisionTreeClassifier(random_state=758019998),\n",
       " DecisionTreeClassifier(random_state=1432275623),\n",
       " DecisionTreeClassifier(random_state=1719636617),\n",
       " DecisionTreeClassifier(random_state=1689285904),\n",
       " DecisionTreeClassifier(random_state=686057112),\n",
       " DecisionTreeClassifier(random_state=882441692),\n",
       " DecisionTreeClassifier(random_state=1800072583),\n",
       " DecisionTreeClassifier(random_state=1714547571),\n",
       " DecisionTreeClassifier(random_state=1582051556),\n",
       " DecisionTreeClassifier(random_state=144629911),\n",
       " DecisionTreeClassifier(random_state=1872696256),\n",
       " DecisionTreeClassifier(random_state=1041021512),\n",
       " DecisionTreeClassifier(random_state=242714384),\n",
       " DecisionTreeClassifier(random_state=67350880),\n",
       " DecisionTreeClassifier(random_state=1803048660),\n",
       " DecisionTreeClassifier(random_state=1974008533),\n",
       " DecisionTreeClassifier(random_state=1958374617),\n",
       " DecisionTreeClassifier(random_state=1068946429),\n",
       " DecisionTreeClassifier(random_state=601425038),\n",
       " DecisionTreeClassifier(random_state=1256188943),\n",
       " DecisionTreeClassifier(random_state=1667272400),\n",
       " DecisionTreeClassifier(random_state=911707597),\n",
       " DecisionTreeClassifier(random_state=1683690693),\n",
       " DecisionTreeClassifier(random_state=644321642),\n",
       " DecisionTreeClassifier(random_state=1679272972),\n",
       " DecisionTreeClassifier(random_state=326694465),\n",
       " DecisionTreeClassifier(random_state=1093209313),\n",
       " DecisionTreeClassifier(random_state=758743505),\n",
       " DecisionTreeClassifier(random_state=1783367317),\n",
       " DecisionTreeClassifier(random_state=1110312258),\n",
       " DecisionTreeClassifier(random_state=755174166),\n",
       " DecisionTreeClassifier(random_state=443767883),\n",
       " DecisionTreeClassifier(random_state=512295005),\n",
       " DecisionTreeClassifier(random_state=1813233843),\n",
       " DecisionTreeClassifier(random_state=170003804),\n",
       " DecisionTreeClassifier(random_state=470033576),\n",
       " DecisionTreeClassifier(random_state=1747558770),\n",
       " DecisionTreeClassifier(random_state=103293719),\n",
       " DecisionTreeClassifier(random_state=266139621),\n",
       " DecisionTreeClassifier(random_state=1563088756),\n",
       " DecisionTreeClassifier(random_state=1645327151),\n",
       " DecisionTreeClassifier(random_state=1870515361),\n",
       " DecisionTreeClassifier(random_state=1259068907),\n",
       " DecisionTreeClassifier(random_state=803643537),\n",
       " DecisionTreeClassifier(random_state=1254692651),\n",
       " DecisionTreeClassifier(random_state=2110998686),\n",
       " DecisionTreeClassifier(random_state=169260570),\n",
       " DecisionTreeClassifier(random_state=1113025921),\n",
       " DecisionTreeClassifier(random_state=1212617349),\n",
       " DecisionTreeClassifier(random_state=171457250),\n",
       " DecisionTreeClassifier(random_state=478068692),\n",
       " DecisionTreeClassifier(random_state=924519212),\n",
       " DecisionTreeClassifier(random_state=733466383),\n",
       " DecisionTreeClassifier(random_state=1672275314),\n",
       " DecisionTreeClassifier(random_state=238185900),\n",
       " DecisionTreeClassifier(random_state=1536103009),\n",
       " DecisionTreeClassifier(random_state=689675985),\n",
       " DecisionTreeClassifier(random_state=1907793030),\n",
       " DecisionTreeClassifier(random_state=382225545),\n",
       " DecisionTreeClassifier(random_state=1644972390),\n",
       " DecisionTreeClassifier(random_state=847339331),\n",
       " DecisionTreeClassifier(random_state=1626851145),\n",
       " DecisionTreeClassifier(random_state=2011798348),\n",
       " DecisionTreeClassifier(random_state=2037082241),\n",
       " DecisionTreeClassifier(random_state=1857215151),\n",
       " DecisionTreeClassifier(random_state=416378566),\n",
       " DecisionTreeClassifier(random_state=1971571535),\n",
       " DecisionTreeClassifier(random_state=1274175726),\n",
       " DecisionTreeClassifier(random_state=2136282860),\n",
       " DecisionTreeClassifier(random_state=1489155995),\n",
       " DecisionTreeClassifier(random_state=53921855),\n",
       " DecisionTreeClassifier(random_state=804108957),\n",
       " DecisionTreeClassifier(random_state=944403480),\n",
       " DecisionTreeClassifier(random_state=1332483768),\n",
       " DecisionTreeClassifier(random_state=1685797527),\n",
       " DecisionTreeClassifier(random_state=954553673),\n",
       " DecisionTreeClassifier(random_state=242740042),\n",
       " DecisionTreeClassifier(random_state=277182503),\n",
       " DecisionTreeClassifier(random_state=47259024),\n",
       " DecisionTreeClassifier(random_state=248138264),\n",
       " DecisionTreeClassifier(random_state=702422597),\n",
       " DecisionTreeClassifier(random_state=939207604),\n",
       " DecisionTreeClassifier(random_state=1529342700),\n",
       " DecisionTreeClassifier(random_state=1284390939),\n",
       " DecisionTreeClassifier(random_state=863052931),\n",
       " DecisionTreeClassifier(random_state=679550330),\n",
       " DecisionTreeClassifier(random_state=453847719),\n",
       " DecisionTreeClassifier(random_state=1881191122),\n",
       " DecisionTreeClassifier(random_state=1807201344),\n",
       " DecisionTreeClassifier(random_state=1127250893),\n",
       " DecisionTreeClassifier(random_state=1690499701),\n",
       " DecisionTreeClassifier(random_state=87023501),\n",
       " DecisionTreeClassifier(random_state=196785349),\n",
       " DecisionTreeClassifier(random_state=2146979218),\n",
       " DecisionTreeClassifier(random_state=227036993),\n",
       " DecisionTreeClassifier(random_state=6548784),\n",
       " DecisionTreeClassifier(random_state=401703767),\n",
       " DecisionTreeClassifier(random_state=1957637872),\n",
       " DecisionTreeClassifier(random_state=413734935),\n",
       " DecisionTreeClassifier(random_state=2077008103),\n",
       " DecisionTreeClassifier(random_state=721477487),\n",
       " DecisionTreeClassifier(random_state=632227614),\n",
       " DecisionTreeClassifier(random_state=903198017),\n",
       " DecisionTreeClassifier(random_state=593799005),\n",
       " DecisionTreeClassifier(random_state=1050746870),\n",
       " DecisionTreeClassifier(random_state=1974551827),\n",
       " DecisionTreeClassifier(random_state=2083303979),\n",
       " DecisionTreeClassifier(random_state=640587267),\n",
       " DecisionTreeClassifier(random_state=1200156522),\n",
       " DecisionTreeClassifier(random_state=1027993271),\n",
       " DecisionTreeClassifier(random_state=1434528107),\n",
       " DecisionTreeClassifier(random_state=543625240),\n",
       " DecisionTreeClassifier(random_state=195990617),\n",
       " DecisionTreeClassifier(random_state=1040953304),\n",
       " DecisionTreeClassifier(random_state=1140418201),\n",
       " DecisionTreeClassifier(random_state=1630026140),\n",
       " DecisionTreeClassifier(random_state=1948767777),\n",
       " DecisionTreeClassifier(random_state=1645147505),\n",
       " DecisionTreeClassifier(random_state=1477362306),\n",
       " DecisionTreeClassifier(random_state=716788797),\n",
       " DecisionTreeClassifier(random_state=1727268797),\n",
       " DecisionTreeClassifier(random_state=149885973),\n",
       " DecisionTreeClassifier(random_state=1634624159)]"
      ]
     },
     "execution_count": 34,
     "metadata": {},
     "output_type": "execute_result"
    }
   ],
   "source": [
    "# Feature Importance\n",
    "clf.estimators_"
   ]
  },
  {
   "cell_type": "code",
   "execution_count": 35,
   "metadata": {},
   "outputs": [
    {
     "name": "stdout",
     "output_type": "stream",
     "text": [
      "DecisionTreeClassifier(random_state=1859118377)\n"
     ]
    }
   ],
   "source": [
    "print (clf.estimators_[0])"
   ]
  },
  {
   "cell_type": "code",
   "execution_count": 36,
   "metadata": {},
   "outputs": [
    {
     "name": "stdout",
     "output_type": "stream",
     "text": [
      "[5.04619056e-01 1.33865181e-01 1.10075307e-01 7.10558635e-02\n",
      " 1.57558554e-01 2.13045389e-03 3.25242845e-04 1.73390370e-05\n",
      " 2.22373675e-03 7.40603480e-04 1.25108377e-03 1.50297786e-03\n",
      " 1.21635485e-03 1.10851468e-03 2.74940619e-03 2.37646978e-03\n",
      " 5.43524836e-03 1.74860789e-03]\n"
     ]
    }
   ],
   "source": [
    "print (clf.estimators_[0].feature_importances_)"
   ]
  },
  {
   "cell_type": "code",
   "execution_count": 37,
   "metadata": {},
   "outputs": [],
   "source": [
    "# We can extract feature importance from each tree then take a mean for all trees\n",
    "imp=[]\n",
    "for i in clf.estimators_:\n",
    "    imp.append(i.feature_importances_)\n",
    "imp=np.mean(imp,axis=0)"
   ]
  },
  {
   "cell_type": "code",
   "execution_count": 38,
   "metadata": {},
   "outputs": [],
   "source": [
    "feature_importance=pd.Series(imp,index=X.columns.tolist())"
   ]
  },
  {
   "cell_type": "code",
   "execution_count": 39,
   "metadata": {},
   "outputs": [
    {
     "data": {
      "text/plain": [
       "satisfaction_level       0.494752\n",
       "last_evaluation          0.138632\n",
       "time_spend_company       0.137539\n",
       "number_project           0.110562\n",
       "average_montly_hours     0.097978\n",
       "salary_low               0.003442\n",
       "dept_support             0.002896\n",
       "dept_technical           0.002863\n",
       "dept_sales               0.002594\n",
       "salary_medium            0.002396\n",
       "Work_accident            0.001533\n",
       "dept_accounting          0.001499\n",
       "dept_marketing           0.000722\n",
       "dept_product_mng         0.000655\n",
       "dept_RandD               0.000625\n",
       "dept_hr                  0.000605\n",
       "dept_management          0.000499\n",
       "promotion_last_5years    0.000206\n",
       "dtype: float64"
      ]
     },
     "execution_count": 39,
     "metadata": {},
     "output_type": "execute_result"
    }
   ],
   "source": [
    "feature_importance.sort_values(ascending=False)"
   ]
  },
  {
   "cell_type": "code",
   "execution_count": 40,
   "metadata": {},
   "outputs": [
    {
     "data": {
      "text/plain": [
       "<AxesSubplot:>"
      ]
     },
     "execution_count": 40,
     "metadata": {},
     "output_type": "execute_result"
    },
    {
     "data": {
      "image/png": "[encoded data removed]",
      "text/plain": [
       "<Figure size 432x288 with 1 Axes>"
      ]
     },
     "metadata": {
      "needs_background": "light"
     },
     "output_type": "display_data"
    }
   ],
   "source": [
    "feature_importance.sort_values(ascending=False).plot(kind='bar')"
   ]
  },
  {
   "cell_type": "markdown",
   "metadata": {},
   "source": [
    "### Random Forest Classifier"
   ]
  },
  {
   "cell_type": "code",
   "execution_count": 42,
   "metadata": {},
   "outputs": [],
   "source": [
    "from sklearn.ensemble import RandomForestClassifier"
   ]
  },
  {
   "cell_type": "code",
   "execution_count": 43,
   "metadata": {},
   "outputs": [],
   "source": [
    "clf=RandomForestClassifier(n_estimators=80,oob_score=True,n_jobs=-1,random_state=5)"
   ]
  },
  {
   "cell_type": "code",
   "execution_count": 44,
   "metadata": {},
   "outputs": [
    {
     "data": {
      "text/plain": [
       "RandomForestClassifier(bootstrap=True, ccp_alpha=0.0, class_weight=None,\n",
       "                       criterion='gini', max_depth=None, max_features='auto',\n",
       "                       max_leaf_nodes=None, max_samples=None,\n",
       "                       min_impurity_decrease=0.0, min_impurity_split=None,\n",
       "                       min_samples_leaf=1, min_samples_split=2,\n",
       "                       min_weight_fraction_leaf=0.0, n_estimators=80, n_jobs=-1,\n",
       "                       oob_score=True, random_state=400, verbose=0,\n",
       "                       warm_start=False)"
      ]
     },
     "execution_count": 44,
     "metadata": {},
     "output_type": "execute_result"
    }
   ],
   "source": [
    "clf.fit(X_train,y_train)"
   ]
  },
  {
   "cell_type": "code",
   "execution_count": 45,
   "metadata": {},
   "outputs": [
    {
     "data": {
      "text/plain": [
       "0.9911659304942079"
      ]
     },
     "execution_count": 45,
     "metadata": {},
     "output_type": "execute_result"
    }
   ],
   "source": [
    "clf.oob_score_"
   ]
  },
  {
   "cell_type": "code",
   "execution_count": 46,
   "metadata": {},
   "outputs": [
    {
     "name": "stderr",
     "output_type": "stream",
     "text": [
      "C:\\Users\\DELL\\Anaconda3\\lib\\site-packages\\sklearn\\ensemble\\_forest.py:523: UserWarning: Some inputs do not have OOB scores. This probably means too few trees were used to compute any reliable oob estimates.\n",
      "  warn(\"Some inputs do not have OOB scores. \"\n",
      "C:\\Users\\DELL\\Anaconda3\\lib\\site-packages\\sklearn\\ensemble\\_forest.py:528: RuntimeWarning: invalid value encountered in true_divide\n",
      "  predictions[k].sum(axis=1)[:, np.newaxis])\n"
     ]
    },
    {
     "name": "stdout",
     "output_type": "stream",
     "text": [
      "For n_estimators = 10\n",
      "OOB score is 0.9834986248854071\n",
      "************************\n",
      "For n_estimators = 30\n",
      "OOB score is 0.9899158263188599\n",
      "************************\n",
      "For n_estimators = 50\n",
      "OOB score is 0.9905825485457121\n",
      "************************\n",
      "For n_estimators = 70\n",
      "OOB score is 0.9909992499374948\n",
      "************************\n",
      "For n_estimators = 90\n",
      "OOB score is 0.9912492707725644\n",
      "************************\n",
      "For n_estimators = 110\n",
      "OOB score is 0.9914159513292774\n",
      "************************\n",
      "For n_estimators = 130\n",
      "OOB score is 0.9918326527210601\n",
      "************************\n",
      "For n_estimators = 150\n",
      "OOB score is 0.9915826318859905\n",
      "************************\n",
      "For n_estimators = 170\n",
      "OOB score is 0.9915826318859905\n",
      "************************\n",
      "For n_estimators = 190\n",
      "OOB score is 0.991665972164347\n",
      "************************\n",
      "For n_estimators = 210\n",
      "OOB score is 0.9914159513292774\n",
      "************************\n",
      "For n_estimators = 230\n",
      "OOB score is 0.9914159513292774\n",
      "************************\n",
      "For n_estimators = 250\n",
      "OOB score is 0.991499291607634\n",
      "************************\n",
      "For n_estimators = 270\n",
      "OOB score is 0.9915826318859905\n",
      "************************\n",
      "For n_estimators = 290\n",
      "OOB score is 0.9915826318859905\n",
      "************************\n"
     ]
    }
   ],
   "source": [
    "for w in range(10,300,20):\n",
    "    clf=RandomForestClassifier(n_estimators=w,oob_score=True,n_jobs=-1,random_state=400)\n",
    "    clf.fit(X_train,y_train)\n",
    "    oob=clf.oob_score_\n",
    "    print ('For n_estimators = '+str(w))\n",
    "    print ('OOB score is '+str(oob))\n",
    "    print ('************************')"
   ]
  },
  {
   "cell_type": "code",
   "execution_count": 47,
   "metadata": {},
   "outputs": [],
   "source": [
    "#Finalize 190 trees\n",
    "clf=RandomForestClassifier(n_estimators=190,oob_score=True,n_jobs=-1,random_state=400)"
   ]
  },
  {
   "cell_type": "code",
   "execution_count": 48,
   "metadata": {},
   "outputs": [
    {
     "data": {
      "text/plain": [
       "RandomForestClassifier(bootstrap=True, ccp_alpha=0.0, class_weight=None,\n",
       "                       criterion='gini', max_depth=None, max_features='auto',\n",
       "                       max_leaf_nodes=None, max_samples=None,\n",
       "                       min_impurity_decrease=0.0, min_impurity_split=None,\n",
       "                       min_samples_leaf=1, min_samples_split=2,\n",
       "                       min_weight_fraction_leaf=0.0, n_estimators=190,\n",
       "                       n_jobs=-1, oob_score=True, random_state=400, verbose=0,\n",
       "                       warm_start=False)"
      ]
     },
     "execution_count": 48,
     "metadata": {},
     "output_type": "execute_result"
    }
   ],
   "source": [
    "clf.fit(X_train,y_train)"
   ]
  },
  {
   "cell_type": "code",
   "execution_count": 49,
   "metadata": {},
   "outputs": [
    {
     "data": {
      "text/plain": [
       "0.991665972164347"
      ]
     },
     "execution_count": 49,
     "metadata": {},
     "output_type": "execute_result"
    }
   ],
   "source": [
    "clf.oob_score_"
   ]
  },
  {
   "cell_type": "code",
   "execution_count": 50,
   "metadata": {},
   "outputs": [
    {
     "data": {
      "text/plain": [
       "array([0.3223274 , 0.12338392, 0.1805583 , 0.14885395, 0.18380018,\n",
       "       0.00908194, 0.0018142 , 0.00154373, 0.00176472, 0.00149083,\n",
       "       0.00184206, 0.00112564, 0.00110319, 0.00373451, 0.00274713,\n",
       "       0.00370978, 0.00733434, 0.00378419])"
      ]
     },
     "execution_count": 50,
     "metadata": {},
     "output_type": "execute_result"
    }
   ],
   "source": [
    "clf.feature_importances_"
   ]
  },
  {
   "cell_type": "code",
   "execution_count": 51,
   "metadata": {},
   "outputs": [],
   "source": [
    "imp_feat=pd.Series(clf.feature_importances_,index=X.columns.tolist())"
   ]
  },
  {
   "cell_type": "code",
   "execution_count": 52,
   "metadata": {},
   "outputs": [
    {
     "data": {
      "text/plain": [
       "satisfaction_level       0.322327\n",
       "time_spend_company       0.183800\n",
       "number_project           0.180558\n",
       "average_montly_hours     0.148854\n",
       "last_evaluation          0.123384\n",
       "Work_accident            0.009082\n",
       "salary_low               0.007334\n",
       "salary_medium            0.003784\n",
       "dept_sales               0.003735\n",
       "dept_technical           0.003710\n",
       "dept_support             0.002747\n",
       "dept_management          0.001842\n",
       "promotion_last_5years    0.001814\n",
       "dept_accounting          0.001765\n",
       "dept_RandD               0.001544\n",
       "dept_hr                  0.001491\n",
       "dept_marketing           0.001126\n",
       "dept_product_mng         0.001103\n",
       "dtype: float64"
      ]
     },
     "execution_count": 52,
     "metadata": {},
     "output_type": "execute_result"
    }
   ],
   "source": [
    "imp_feat.sort_values(ascending=False)"
   ]
  },
  {
   "cell_type": "code",
   "execution_count": 53,
   "metadata": {},
   "outputs": [
    {
     "data": {
      "text/plain": [
       "<matplotlib.axes._subplots.AxesSubplot at 0x1c8f1e23d30>"
      ]
     },
     "execution_count": 53,
     "metadata": {},
     "output_type": "execute_result"
    },
    {
     "data": {
      "image/png": "[encoded data removed]",
      "text/plain": [
       "<Figure size 432x288 with 1 Axes>"
      ]
     },
     "metadata": {
      "needs_background": "light"
     },
     "output_type": "display_data"
    }
   ],
   "source": [
    "imp_feat.sort_values(ascending=False).plot(kind='bar')"
   ]
  },
  {
   "cell_type": "code",
   "execution_count": 54,
   "metadata": {},
   "outputs": [
    {
     "data": {
      "text/plain": [
       "1.0"
      ]
     },
     "execution_count": 54,
     "metadata": {},
     "output_type": "execute_result"
    }
   ],
   "source": [
    "clf.score(X_train,y_train)"
   ]
  },
  {
   "cell_type": "code",
   "execution_count": 55,
   "metadata": {},
   "outputs": [
    {
     "data": {
      "text/plain": [
       "0.989"
      ]
     },
     "execution_count": 55,
     "metadata": {},
     "output_type": "execute_result"
    }
   ],
   "source": [
    "clf.score(X_test,y_test)"
   ]
  },
  {
   "cell_type": "code",
   "execution_count": null,
   "metadata": {},
   "outputs": [],
   "source": []
  }
 ],
 "metadata": {
  "anaconda-cloud": {},
  "kernelspec": {
   "display_name": "Python 3",
   "language": "python",
   "name": "python3"
  },
  "language_info": {
   "codemirror_mode": {
    "name": "ipython",
    "version": 3
   },
   "file_extension": ".py",
   "mimetype": "text/x-python",
   "name": "python",
   "nbconvert_exporter": "python",
   "pygments_lexer": "ipython3",
   "version": "3.8.8"
  }
 },
 "nbformat": 4,
 "nbformat_minor": 4
}
