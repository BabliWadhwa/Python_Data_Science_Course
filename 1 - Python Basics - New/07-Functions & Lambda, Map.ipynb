{
 "cells": [
  {
   "cell_type": "markdown",
   "metadata": {},
   "source": [
    "### If Elfi else\n",
    "- Used to write custom code and retrun a value based on your calculation"
   ]
  },
  {
   "cell_type": "code",
   "execution_count": null,
   "metadata": {},
   "outputs": [],
   "source": [
    "# R Representation\n",
    "mape <- function(actual,pred){\n",
    "  mape <- mean(abs((actual - pred)/actual))*100\n",
    "  return (mape)\n",
    "}"
   ]
  },
  {
   "cell_type": "code",
   "execution_count": 6,
   "metadata": {},
   "outputs": [],
   "source": [
    "import numpy as np"
   ]
  },
  {
   "cell_type": "code",
   "execution_count": 12,
   "metadata": {},
   "outputs": [
    {
     "name": "stdout",
     "output_type": "stream",
     "text": [
      "4\n",
      "Nope keep trying\n"
     ]
    }
   ],
   "source": [
    "#Use 4 spaces to indent, it works with 3 also but with a warning\n",
    "a = np.random.randint(1,10)\n",
    "print(a)\n",
    "if a > 5:\n",
    "    print(\"not more than 5\")\n",
    "elif a == 5:\n",
    "    print(\"Yes! it is\")\n",
    "else:\n",
    "    print(\"Nope keep trying\")"
   ]
  },
  {
   "cell_type": "markdown",
   "metadata": {},
   "source": [
    "### Heading"
   ]
  },
  {
   "cell_type": "code",
   "execution_count": 4,
   "metadata": {},
   "outputs": [
    {
     "name": "stdout",
     "output_type": "stream",
     "text": [
      "9\n",
      "it is 9\n"
     ]
    }
   ],
   "source": [
    "a = 9\n",
    "\n",
    "print(a)\n",
    "\n",
    "if a > 10:\n",
    "    print(\"gt 10\")\n",
    "elif a == 10: \n",
    "    print(\"it is 10\")\n",
    "elif a == 9: \n",
    "    print(\"it is 9\")\n",
    "else:\n",
    "    print (\"is it not 10\")\n",
    "    \n",
    "# Do not use more than 2 layers of nested if "
   ]
  },
  {
   "cell_type": "markdown",
   "metadata": {},
   "source": [
    "### Functions\n",
    "- Used to write custom code and retrun a value based on your calculation"
   ]
  },
  {
   "cell_type": "code",
   "execution_count": 13,
   "metadata": {},
   "outputs": [],
   "source": [
    "def mycube(x):\n",
    "    return x*x*x"
   ]
  },
  {
   "cell_type": "code",
   "execution_count": 14,
   "metadata": {},
   "outputs": [
    {
     "data": {
      "text/plain": [
       "27"
      ]
     },
     "execution_count": 14,
     "metadata": {},
     "output_type": "execute_result"
    }
   ],
   "source": [
    "mycube(3)"
   ]
  },
  {
   "cell_type": "code",
   "execution_count": 15,
   "metadata": {},
   "outputs": [],
   "source": [
    "def mycube2(x):\n",
    "    y = x * x * x\n",
    "    return y"
   ]
  },
  {
   "cell_type": "code",
   "execution_count": 16,
   "metadata": {},
   "outputs": [
    {
     "data": {
      "text/plain": [
       "27"
      ]
     },
     "execution_count": 16,
     "metadata": {},
     "output_type": "execute_result"
    }
   ],
   "source": [
    "mycube2(3)"
   ]
  },
  {
   "cell_type": "code",
   "execution_count": 17,
   "metadata": {},
   "outputs": [],
   "source": [
    "x = 5\n",
    "\n",
    "def linear_eq(x):\n",
    "    m = 10\n",
    "    c = 100\n",
    "    \n",
    "    y = x * m + c\n",
    "    \n",
    "    return y"
   ]
  },
  {
   "cell_type": "code",
   "execution_count": 18,
   "metadata": {},
   "outputs": [
    {
     "data": {
      "text/plain": [
       "150"
      ]
     },
     "execution_count": 18,
     "metadata": {},
     "output_type": "execute_result"
    }
   ],
   "source": [
    "x = 5\n",
    "linear_eq(x)"
   ]
  },
  {
   "cell_type": "code",
   "execution_count": 19,
   "metadata": {},
   "outputs": [],
   "source": [
    "def linear_eq(x, m, c):\n",
    "    m = m\n",
    "    c = c\n",
    "    \n",
    "    y = x * m + c\n",
    "    \n",
    "    return y"
   ]
  },
  {
   "cell_type": "code",
   "execution_count": 21,
   "metadata": {},
   "outputs": [
    {
     "data": {
      "text/plain": [
       "150"
      ]
     },
     "execution_count": 21,
     "metadata": {},
     "output_type": "execute_result"
    }
   ],
   "source": [
    "x = 5\n",
    "m = 10\n",
    "c = 100\n",
    "linear_eq(x, m, c)"
   ]
  },
  {
   "cell_type": "code",
   "execution_count": null,
   "metadata": {},
   "outputs": [],
   "source": []
  },
  {
   "cell_type": "code",
   "execution_count": 22,
   "metadata": {},
   "outputs": [
    {
     "data": {
      "text/plain": [
       "<filter at 0x1b908b8c400>"
      ]
     },
     "execution_count": 22,
     "metadata": {},
     "output_type": "execute_result"
    }
   ],
   "source": [
    "mynums = [3,2,6,8,4,6,2,9,5,7]\n",
    "\n",
    "#Use of function with Filter\n",
    "def is_even(n):\n",
    "    return n%2 == 0\n",
    "\n",
    "evens = filter(is_even, mynums)\n",
    "evens"
   ]
  },
  {
   "cell_type": "code",
   "execution_count": 23,
   "metadata": {},
   "outputs": [
    {
     "data": {
      "text/plain": [
       "[2, 6, 8, 4, 6, 2]"
      ]
     },
     "execution_count": 23,
     "metadata": {},
     "output_type": "execute_result"
    }
   ],
   "source": [
    "#Lists convert an iterable (tuple, string, set, dictionary) to a list.\n",
    "evens = list(filter(is_even, mynums))\n",
    "evens"
   ]
  },
  {
   "cell_type": "markdown",
   "metadata": {},
   "source": [
    "### Lambdas\n",
    "- We can use lambdas to write a function without a name\n",
    "- We can also pass functions as object in Python\n",
    "- Used when we need to just use it once"
   ]
  },
  {
   "cell_type": "code",
   "execution_count": null,
   "metadata": {},
   "outputs": [],
   "source": [
    "def mycube(x):\n",
    "    return x*x*x"
   ]
  },
  {
   "cell_type": "code",
   "execution_count": null,
   "metadata": {},
   "outputs": [],
   "source": [
    "myfunc = lambda x : x * x * x"
   ]
  },
  {
   "cell_type": "code",
   "execution_count": 24,
   "metadata": {},
   "outputs": [],
   "source": [
    "#Assign the Lambda fucntion to a variables, since it is an object\n",
    "myfunc = lambda x: x*x*x"
   ]
  },
  {
   "cell_type": "code",
   "execution_count": 25,
   "metadata": {},
   "outputs": [
    {
     "data": {
      "text/plain": [
       "27"
      ]
     },
     "execution_count": 25,
     "metadata": {},
     "output_type": "execute_result"
    }
   ],
   "source": [
    "#Now you can use the variable to find cube of a number\n",
    "myfunc(3)"
   ]
  },
  {
   "cell_type": "code",
   "execution_count": 15,
   "metadata": {},
   "outputs": [],
   "source": [
    "#We can also use 2 variables, but it should be one expression\n",
    "mysqr = lambda a,b: a + b**2"
   ]
  },
  {
   "cell_type": "code",
   "execution_count": 16,
   "metadata": {},
   "outputs": [
    {
     "data": {
      "text/plain": [
       "3"
      ]
     },
     "execution_count": 16,
     "metadata": {},
     "output_type": "execute_result"
    }
   ],
   "source": [
    "mysqr(2,1)"
   ]
  },
  {
   "cell_type": "markdown",
   "metadata": {},
   "source": [
    "### Lambda with Filter, Map, Reduce\n",
    "- Filter is used to filter based on a criteria \n",
    "- It uses 2 arguments; one is function and second is list"
   ]
  },
  {
   "cell_type": "code",
   "execution_count": 8,
   "metadata": {},
   "outputs": [
    {
     "data": {
      "text/plain": [
       "[2, 6, 8, 4, 6, 2]"
      ]
     },
     "execution_count": 8,
     "metadata": {},
     "output_type": "execute_result"
    }
   ],
   "source": [
    "#Lets get the even numbers from this list\n",
    "mynums= [3,2,6,8,4,6,2,9,5,7]\n",
    "\n",
    "#Get evens using Lambda\n",
    "evens = list(filter(lambda x: x%2 == 0,mynums)) #check for true values\n",
    "evens"
   ]
  },
  {
   "cell_type": "code",
   "execution_count": 9,
   "metadata": {},
   "outputs": [
    {
     "data": {
      "text/plain": [
       "[4, 8, 10, 6, 8, 4]"
      ]
     },
     "execution_count": 9,
     "metadata": {},
     "output_type": "execute_result"
    }
   ],
   "source": [
    "#Now lets add 2 to each number; we use map for the same\n",
    "mydouble = list(map(lambda x:x+2, evens))\n",
    "mydouble"
   ]
  },
  {
   "cell_type": "code",
   "execution_count": 10,
   "metadata": {},
   "outputs": [
    {
     "data": {
      "text/plain": [
       "40"
      ]
     },
     "execution_count": 10,
     "metadata": {},
     "output_type": "execute_result"
    }
   ],
   "source": [
    "from functools import reduce\n",
    "#Now add all these value to return one value\n",
    "mysum = reduce(lambda a,b: a+b,mydouble)\n",
    "mysum"
   ]
  },
  {
   "cell_type": "code",
   "execution_count": 13,
   "metadata": {},
   "outputs": [
    {
     "name": "stdout",
     "output_type": "stream",
     "text": [
      "[90, 165, 260]\n"
     ]
    }
   ],
   "source": [
    "#Get y = m1x1+m2x2+m3x3\n",
    "m=[45,55,65]\n",
    "x=[2,3,4]\n",
    "bmi=list(map(lambda a,b:a*b,m,x))\n",
    "print (bmi)"
   ]
  }
 ],
 "metadata": {
  "kernelspec": {
   "display_name": "Python 3",
   "language": "python",
   "name": "python3"
  },
  "language_info": {
   "codemirror_mode": {
    "name": "ipython",
    "version": 3
   },
   "file_extension": ".py",
   "mimetype": "text/x-python",
   "name": "python",
   "nbconvert_exporter": "python",
   "pygments_lexer": "ipython3",
   "version": "3.8.8"
  }
 },
 "nbformat": 4,
 "nbformat_minor": 4
}
